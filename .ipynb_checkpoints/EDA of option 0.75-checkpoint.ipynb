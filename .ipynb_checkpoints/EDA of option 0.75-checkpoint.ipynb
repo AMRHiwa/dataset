{
 "cells": [
  {
   "cell_type": "code",
   "execution_count": 1,
   "id": "ca5e45f2",
   "metadata": {},
   "outputs": [],
   "source": [
    "import numpy as np \n",
    "import pandas as pd\n",
    "import matplotlib.pyplot as plt\n",
    "%matplotlib inline\n",
    "import seaborn as sns"
   ]
  },
  {
   "cell_type": "code",
   "execution_count": 2,
   "id": "2f9a1da0",
   "metadata": {
    "scrolled": true
   },
   "outputs": [
    {
     "data": {
      "text/html": [
       "<div>\n",
       "<style scoped>\n",
       "    .dataframe tbody tr th:only-of-type {\n",
       "        vertical-align: middle;\n",
       "    }\n",
       "\n",
       "    .dataframe tbody tr th {\n",
       "        vertical-align: top;\n",
       "    }\n",
       "\n",
       "    .dataframe thead th {\n",
       "        text-align: right;\n",
       "    }\n",
       "</style>\n",
       "<table border=\"1\" class=\"dataframe\">\n",
       "  <thead>\n",
       "    <tr style=\"text-align: right;\">\n",
       "      <th></th>\n",
       "      <th>district</th>\n",
       "      <th>doc</th>\n",
       "      <th>pre_date</th>\n",
       "      <th>cur_date</th>\n",
       "      <th>days</th>\n",
       "      <th>pre_read</th>\n",
       "      <th>cur_read</th>\n",
       "      <th>consumption</th>\n",
       "      <th>bill</th>\n",
       "      <th>obstcle</th>\n",
       "      <th>meter</th>\n",
       "      <th>Y</th>\n",
       "      <th>X</th>\n",
       "      <th>ID</th>\n",
       "      <th>flats</th>\n",
       "      <th>land_use</th>\n",
       "      <th>capacity</th>\n",
       "      <th>diameter</th>\n",
       "    </tr>\n",
       "  </thead>\n",
       "  <tbody>\n",
       "    <tr>\n",
       "      <th>0</th>\n",
       "      <td>ناحيه 1 گرگان</td>\n",
       "      <td>11000562</td>\n",
       "      <td>950131</td>\n",
       "      <td>950313</td>\n",
       "      <td>44</td>\n",
       "      <td>240</td>\n",
       "      <td>287</td>\n",
       "      <td>47</td>\n",
       "      <td>223612</td>\n",
       "      <td>NaN</td>\n",
       "      <td>1392/10/01</td>\n",
       "      <td>4077062.685</td>\n",
       "      <td>273238.211214</td>\n",
       "      <td>26248700</td>\n",
       "      <td>4</td>\n",
       "      <td>مسكوني</td>\n",
       "      <td>0</td>\n",
       "      <td>0.75</td>\n",
       "    </tr>\n",
       "    <tr>\n",
       "      <th>1</th>\n",
       "      <td>ناحيه 1 گرگان</td>\n",
       "      <td>11000562</td>\n",
       "      <td>941112</td>\n",
       "      <td>950131</td>\n",
       "      <td>78</td>\n",
       "      <td>172</td>\n",
       "      <td>240</td>\n",
       "      <td>68</td>\n",
       "      <td>330283</td>\n",
       "      <td>NaN</td>\n",
       "      <td>1392/10/01</td>\n",
       "      <td>4077062.685</td>\n",
       "      <td>273238.211214</td>\n",
       "      <td>26248700</td>\n",
       "      <td>4</td>\n",
       "      <td>مسكوني</td>\n",
       "      <td>0</td>\n",
       "      <td>0.75</td>\n",
       "    </tr>\n",
       "    <tr>\n",
       "      <th>2</th>\n",
       "      <td>ناحيه 1 گرگان</td>\n",
       "      <td>11000562</td>\n",
       "      <td>950602</td>\n",
       "      <td>950719</td>\n",
       "      <td>48</td>\n",
       "      <td>379</td>\n",
       "      <td>464</td>\n",
       "      <td>85</td>\n",
       "      <td>357967</td>\n",
       "      <td>NaN</td>\n",
       "      <td>1392/10/01</td>\n",
       "      <td>4077062.685</td>\n",
       "      <td>273238.211214</td>\n",
       "      <td>26248700</td>\n",
       "      <td>4</td>\n",
       "      <td>مسكوني</td>\n",
       "      <td>0</td>\n",
       "      <td>0.75</td>\n",
       "    </tr>\n",
       "    <tr>\n",
       "      <th>3</th>\n",
       "      <td>ناحيه 1 گرگان</td>\n",
       "      <td>11000562</td>\n",
       "      <td>950719</td>\n",
       "      <td>950915</td>\n",
       "      <td>56</td>\n",
       "      <td>464</td>\n",
       "      <td>555</td>\n",
       "      <td>91</td>\n",
       "      <td>509158</td>\n",
       "      <td>NaN</td>\n",
       "      <td>1392/10/01</td>\n",
       "      <td>4077062.685</td>\n",
       "      <td>273238.211214</td>\n",
       "      <td>26248700</td>\n",
       "      <td>4</td>\n",
       "      <td>مسكوني</td>\n",
       "      <td>0</td>\n",
       "      <td>0.75</td>\n",
       "    </tr>\n",
       "    <tr>\n",
       "      <th>4</th>\n",
       "      <td>ناحيه 1 گرگان</td>\n",
       "      <td>11000562</td>\n",
       "      <td>950313</td>\n",
       "      <td>950426</td>\n",
       "      <td>44</td>\n",
       "      <td>287</td>\n",
       "      <td>330</td>\n",
       "      <td>43</td>\n",
       "      <td>212301</td>\n",
       "      <td>NaN</td>\n",
       "      <td>1392/10/01</td>\n",
       "      <td>4077062.685</td>\n",
       "      <td>273238.211214</td>\n",
       "      <td>26248700</td>\n",
       "      <td>4</td>\n",
       "      <td>مسكوني</td>\n",
       "      <td>0</td>\n",
       "      <td>0.75</td>\n",
       "    </tr>\n",
       "  </tbody>\n",
       "</table>\n",
       "</div>"
      ],
      "text/plain": [
       "        district       doc  pre_date  cur_date  days  pre_read  cur_read  \\\n",
       "0  ناحيه 1 گرگان  11000562    950131    950313    44       240       287   \n",
       "1  ناحيه 1 گرگان  11000562    941112    950131    78       172       240   \n",
       "2  ناحيه 1 گرگان  11000562    950602    950719    48       379       464   \n",
       "3  ناحيه 1 گرگان  11000562    950719    950915    56       464       555   \n",
       "4  ناحيه 1 گرگان  11000562    950313    950426    44       287       330   \n",
       "\n",
       "   consumption    bill obstcle       meter            Y              X  \\\n",
       "0           47  223612     NaN  1392/10/01  4077062.685  273238.211214   \n",
       "1           68  330283     NaN  1392/10/01  4077062.685  273238.211214   \n",
       "2           85  357967     NaN  1392/10/01  4077062.685  273238.211214   \n",
       "3           91  509158     NaN  1392/10/01  4077062.685  273238.211214   \n",
       "4           43  212301     NaN  1392/10/01  4077062.685  273238.211214   \n",
       "\n",
       "         ID  flats land_use  capacity  diameter  \n",
       "0  26248700      4   مسكوني         0      0.75  \n",
       "1  26248700      4   مسكوني         0      0.75  \n",
       "2  26248700      4   مسكوني         0      0.75  \n",
       "3  26248700      4   مسكوني         0      0.75  \n",
       "4  26248700      4   مسكوني         0      0.75  "
      ]
     },
     "execution_count": 2,
     "metadata": {},
     "output_type": "execute_result"
    }
   ],
   "source": [
    "df = pd.read_csv('option0.75.csv')\n",
    "df.head()"
   ]
  },
  {
   "cell_type": "code",
   "execution_count": 3,
   "id": "c858c533",
   "metadata": {},
   "outputs": [
    {
     "name": "stdout",
     "output_type": "stream",
     "text": [
      "<class 'pandas.core.frame.DataFrame'>\n",
      "RangeIndex: 229153 entries, 0 to 229152\n",
      "Data columns (total 18 columns):\n",
      " #   Column       Non-Null Count   Dtype  \n",
      "---  ------       --------------   -----  \n",
      " 0   district     229153 non-null  object \n",
      " 1   doc          229153 non-null  int64  \n",
      " 2   pre_date     229153 non-null  int64  \n",
      " 3   cur_date     229153 non-null  int64  \n",
      " 4   days         229153 non-null  int64  \n",
      " 5   pre_read     229153 non-null  int64  \n",
      " 6   cur_read     229153 non-null  int64  \n",
      " 7   consumption  229153 non-null  int64  \n",
      " 8   bill         229153 non-null  int64  \n",
      " 9   obstcle      15706 non-null   object \n",
      " 10  meter        95475 non-null   object \n",
      " 11  Y            219292 non-null  float64\n",
      " 12  X            219292 non-null  float64\n",
      " 13  ID           229153 non-null  int64  \n",
      " 14  flats        229153 non-null  int64  \n",
      " 15  land_use     229153 non-null  object \n",
      " 16  capacity     229153 non-null  int64  \n",
      " 17  diameter     229153 non-null  float64\n",
      "dtypes: float64(3), int64(11), object(4)\n",
      "memory usage: 31.5+ MB\n"
     ]
    }
   ],
   "source": [
    "df.info()"
   ]
  },
  {
   "cell_type": "code",
   "execution_count": 4,
   "id": "8d81652f",
   "metadata": {
    "direction": "ltr"
   },
   "outputs": [
    {
     "name": "stdout",
     "output_type": "stream",
     "text": [
      "obstcle \t\t 0.931 %\n",
      "meter \t\t 0.583 %\n",
      "Y \t\t 0.043 %\n",
      "X \t\t 0.043 %\n"
     ]
    }
   ],
   "source": [
    "na_features = [features for features in df.columns if df[features].isnull().sum()>1]\n",
    "for feature in na_features:\n",
    "    print(feature,'\\t\\t', np.round(df[feature].isnull().mean(),3), '%')"
   ]
  },
  {
   "cell_type": "code",
   "execution_count": 5,
   "id": "7deff480",
   "metadata": {},
   "outputs": [
    {
     "data": {
      "text/html": [
       "<div>\n",
       "<style scoped>\n",
       "    .dataframe tbody tr th:only-of-type {\n",
       "        vertical-align: middle;\n",
       "    }\n",
       "\n",
       "    .dataframe tbody tr th {\n",
       "        vertical-align: top;\n",
       "    }\n",
       "\n",
       "    .dataframe thead th {\n",
       "        text-align: right;\n",
       "    }\n",
       "</style>\n",
       "<table border=\"1\" class=\"dataframe\">\n",
       "  <thead>\n",
       "    <tr style=\"text-align: right;\">\n",
       "      <th></th>\n",
       "      <th>district</th>\n",
       "      <th>doc</th>\n",
       "      <th>pre_date</th>\n",
       "      <th>cur_date</th>\n",
       "      <th>days</th>\n",
       "      <th>pre_read</th>\n",
       "      <th>cur_read</th>\n",
       "      <th>consumption</th>\n",
       "      <th>bill</th>\n",
       "      <th>obstcle</th>\n",
       "      <th>meter</th>\n",
       "      <th>Y</th>\n",
       "      <th>X</th>\n",
       "      <th>ID</th>\n",
       "      <th>flats</th>\n",
       "      <th>land_use</th>\n",
       "      <th>capacity</th>\n",
       "      <th>diameter</th>\n",
       "    </tr>\n",
       "  </thead>\n",
       "  <tbody>\n",
       "    <tr>\n",
       "      <th>7</th>\n",
       "      <td>ناحيه 1 گرگان</td>\n",
       "      <td>11100009</td>\n",
       "      <td>950426</td>\n",
       "      <td>950525</td>\n",
       "      <td>30</td>\n",
       "      <td>147</td>\n",
       "      <td>147</td>\n",
       "      <td>0</td>\n",
       "      <td>19900</td>\n",
       "      <td>NaN</td>\n",
       "      <td>NaN</td>\n",
       "      <td>NaN</td>\n",
       "      <td>NaN</td>\n",
       "      <td>11145301</td>\n",
       "      <td>1</td>\n",
       "      <td>مسكوني</td>\n",
       "      <td>0</td>\n",
       "      <td>0.75</td>\n",
       "    </tr>\n",
       "    <tr>\n",
       "      <th>8</th>\n",
       "      <td>ناحيه 1 گرگان</td>\n",
       "      <td>11100009</td>\n",
       "      <td>950125</td>\n",
       "      <td>950226</td>\n",
       "      <td>32</td>\n",
       "      <td>147</td>\n",
       "      <td>147</td>\n",
       "      <td>0</td>\n",
       "      <td>21227</td>\n",
       "      <td>NaN</td>\n",
       "      <td>NaN</td>\n",
       "      <td>NaN</td>\n",
       "      <td>NaN</td>\n",
       "      <td>11145301</td>\n",
       "      <td>1</td>\n",
       "      <td>مسكوني</td>\n",
       "      <td>0</td>\n",
       "      <td>0.75</td>\n",
       "    </tr>\n",
       "    <tr>\n",
       "      <th>9</th>\n",
       "      <td>ناحيه 1 گرگان</td>\n",
       "      <td>11100009</td>\n",
       "      <td>941125</td>\n",
       "      <td>941229</td>\n",
       "      <td>34</td>\n",
       "      <td>147</td>\n",
       "      <td>147</td>\n",
       "      <td>0</td>\n",
       "      <td>20753</td>\n",
       "      <td>NaN</td>\n",
       "      <td>NaN</td>\n",
       "      <td>NaN</td>\n",
       "      <td>NaN</td>\n",
       "      <td>11145301</td>\n",
       "      <td>1</td>\n",
       "      <td>مسكوني</td>\n",
       "      <td>0</td>\n",
       "      <td>0.75</td>\n",
       "    </tr>\n",
       "    <tr>\n",
       "      <th>10</th>\n",
       "      <td>ناحيه 1 گرگان</td>\n",
       "      <td>11100009</td>\n",
       "      <td>941229</td>\n",
       "      <td>950125</td>\n",
       "      <td>25</td>\n",
       "      <td>147</td>\n",
       "      <td>147</td>\n",
       "      <td>0</td>\n",
       "      <td>16583</td>\n",
       "      <td>NaN</td>\n",
       "      <td>NaN</td>\n",
       "      <td>NaN</td>\n",
       "      <td>NaN</td>\n",
       "      <td>11145301</td>\n",
       "      <td>1</td>\n",
       "      <td>مسكوني</td>\n",
       "      <td>0</td>\n",
       "      <td>0.75</td>\n",
       "    </tr>\n",
       "    <tr>\n",
       "      <th>11</th>\n",
       "      <td>ناحيه 1 گرگان</td>\n",
       "      <td>11100009</td>\n",
       "      <td>950326</td>\n",
       "      <td>950426</td>\n",
       "      <td>31</td>\n",
       "      <td>147</td>\n",
       "      <td>147</td>\n",
       "      <td>0</td>\n",
       "      <td>20563</td>\n",
       "      <td>NaN</td>\n",
       "      <td>NaN</td>\n",
       "      <td>NaN</td>\n",
       "      <td>NaN</td>\n",
       "      <td>11145301</td>\n",
       "      <td>1</td>\n",
       "      <td>مسكوني</td>\n",
       "      <td>0</td>\n",
       "      <td>0.75</td>\n",
       "    </tr>\n",
       "    <tr>\n",
       "      <th>...</th>\n",
       "      <td>...</td>\n",
       "      <td>...</td>\n",
       "      <td>...</td>\n",
       "      <td>...</td>\n",
       "      <td>...</td>\n",
       "      <td>...</td>\n",
       "      <td>...</td>\n",
       "      <td>...</td>\n",
       "      <td>...</td>\n",
       "      <td>...</td>\n",
       "      <td>...</td>\n",
       "      <td>...</td>\n",
       "      <td>...</td>\n",
       "      <td>...</td>\n",
       "      <td>...</td>\n",
       "      <td>...</td>\n",
       "      <td>...</td>\n",
       "      <td>...</td>\n",
       "    </tr>\n",
       "    <tr>\n",
       "      <th>229148</th>\n",
       "      <td>ناحيه 2 گرگان</td>\n",
       "      <td>61697628</td>\n",
       "      <td>991004</td>\n",
       "      <td>991114</td>\n",
       "      <td>40</td>\n",
       "      <td>428</td>\n",
       "      <td>524</td>\n",
       "      <td>96</td>\n",
       "      <td>0</td>\n",
       "      <td>NaN</td>\n",
       "      <td>NaN</td>\n",
       "      <td>NaN</td>\n",
       "      <td>NaN</td>\n",
       "      <td>46171351</td>\n",
       "      <td>16</td>\n",
       "      <td>مسكوني</td>\n",
       "      <td>0</td>\n",
       "      <td>0.75</td>\n",
       "    </tr>\n",
       "    <tr>\n",
       "      <th>229149</th>\n",
       "      <td>ناحيه 2 گرگان</td>\n",
       "      <td>61697793</td>\n",
       "      <td>991004</td>\n",
       "      <td>991114</td>\n",
       "      <td>40</td>\n",
       "      <td>120</td>\n",
       "      <td>183</td>\n",
       "      <td>63</td>\n",
       "      <td>-1</td>\n",
       "      <td>NaN</td>\n",
       "      <td>NaN</td>\n",
       "      <td>NaN</td>\n",
       "      <td>NaN</td>\n",
       "      <td>46171368</td>\n",
       "      <td>16</td>\n",
       "      <td>مسكوني</td>\n",
       "      <td>0</td>\n",
       "      <td>0.75</td>\n",
       "    </tr>\n",
       "    <tr>\n",
       "      <th>229150</th>\n",
       "      <td>ناحيه 4 گرگان</td>\n",
       "      <td>61697885</td>\n",
       "      <td>991003</td>\n",
       "      <td>991115</td>\n",
       "      <td>42</td>\n",
       "      <td>268</td>\n",
       "      <td>335</td>\n",
       "      <td>67</td>\n",
       "      <td>448950</td>\n",
       "      <td>NaN</td>\n",
       "      <td>NaN</td>\n",
       "      <td>NaN</td>\n",
       "      <td>NaN</td>\n",
       "      <td>62011302</td>\n",
       "      <td>5</td>\n",
       "      <td>مسكوني</td>\n",
       "      <td>0</td>\n",
       "      <td>0.75</td>\n",
       "    </tr>\n",
       "    <tr>\n",
       "      <th>229151</th>\n",
       "      <td>ناحيه 7 گرگان</td>\n",
       "      <td>61697997</td>\n",
       "      <td>991014</td>\n",
       "      <td>991125</td>\n",
       "      <td>41</td>\n",
       "      <td>217</td>\n",
       "      <td>327</td>\n",
       "      <td>110</td>\n",
       "      <td>1158692</td>\n",
       "      <td>NaN</td>\n",
       "      <td>NaN</td>\n",
       "      <td>NaN</td>\n",
       "      <td>NaN</td>\n",
       "      <td>26283900</td>\n",
       "      <td>8</td>\n",
       "      <td>مسكوني</td>\n",
       "      <td>0</td>\n",
       "      <td>0.75</td>\n",
       "    </tr>\n",
       "    <tr>\n",
       "      <th>229152</th>\n",
       "      <td>ناحيه 2 گرگان</td>\n",
       "      <td>61698339</td>\n",
       "      <td>991004</td>\n",
       "      <td>991114</td>\n",
       "      <td>40</td>\n",
       "      <td>0</td>\n",
       "      <td>0</td>\n",
       "      <td>0</td>\n",
       "      <td>424533</td>\n",
       "      <td>NaN</td>\n",
       "      <td>NaN</td>\n",
       "      <td>NaN</td>\n",
       "      <td>NaN</td>\n",
       "      <td>46171369</td>\n",
       "      <td>16</td>\n",
       "      <td>مسكوني</td>\n",
       "      <td>0</td>\n",
       "      <td>0.75</td>\n",
       "    </tr>\n",
       "  </tbody>\n",
       "</table>\n",
       "<p>133678 rows × 18 columns</p>\n",
       "</div>"
      ],
      "text/plain": [
       "             district       doc  pre_date  cur_date  days  pre_read  cur_read  \\\n",
       "7       ناحيه 1 گرگان  11100009    950426    950525    30       147       147   \n",
       "8       ناحيه 1 گرگان  11100009    950125    950226    32       147       147   \n",
       "9       ناحيه 1 گرگان  11100009    941125    941229    34       147       147   \n",
       "10      ناحيه 1 گرگان  11100009    941229    950125    25       147       147   \n",
       "11      ناحيه 1 گرگان  11100009    950326    950426    31       147       147   \n",
       "...               ...       ...       ...       ...   ...       ...       ...   \n",
       "229148  ناحيه 2 گرگان  61697628    991004    991114    40       428       524   \n",
       "229149  ناحيه 2 گرگان  61697793    991004    991114    40       120       183   \n",
       "229150  ناحيه 4 گرگان  61697885    991003    991115    42       268       335   \n",
       "229151  ناحيه 7 گرگان  61697997    991014    991125    41       217       327   \n",
       "229152  ناحيه 2 گرگان  61698339    991004    991114    40         0         0   \n",
       "\n",
       "        consumption     bill obstcle meter   Y   X        ID  flats land_use  \\\n",
       "7                 0    19900     NaN   NaN NaN NaN  11145301      1   مسكوني   \n",
       "8                 0    21227     NaN   NaN NaN NaN  11145301      1   مسكوني   \n",
       "9                 0    20753     NaN   NaN NaN NaN  11145301      1   مسكوني   \n",
       "10                0    16583     NaN   NaN NaN NaN  11145301      1   مسكوني   \n",
       "11                0    20563     NaN   NaN NaN NaN  11145301      1   مسكوني   \n",
       "...             ...      ...     ...   ...  ..  ..       ...    ...      ...   \n",
       "229148           96        0     NaN   NaN NaN NaN  46171351     16   مسكوني   \n",
       "229149           63       -1     NaN   NaN NaN NaN  46171368     16   مسكوني   \n",
       "229150           67   448950     NaN   NaN NaN NaN  62011302      5   مسكوني   \n",
       "229151          110  1158692     NaN   NaN NaN NaN  26283900      8   مسكوني   \n",
       "229152            0   424533     NaN   NaN NaN NaN  46171369     16   مسكوني   \n",
       "\n",
       "        capacity  diameter  \n",
       "7              0      0.75  \n",
       "8              0      0.75  \n",
       "9              0      0.75  \n",
       "10             0      0.75  \n",
       "11             0      0.75  \n",
       "...          ...       ...  \n",
       "229148         0      0.75  \n",
       "229149         0      0.75  \n",
       "229150         0      0.75  \n",
       "229151         0      0.75  \n",
       "229152         0      0.75  \n",
       "\n",
       "[133678 rows x 18 columns]"
      ]
     },
     "execution_count": 5,
     "metadata": {},
     "output_type": "execute_result"
    }
   ],
   "source": [
    "meter_nan_df = df[df['meter'].isna()]\n",
    "meter_nan_df"
   ]
  },
  {
   "cell_type": "code",
   "execution_count": 6,
   "id": "08e517dd",
   "metadata": {},
   "outputs": [
    {
     "data": {
      "text/html": [
       "<div>\n",
       "<style scoped>\n",
       "    .dataframe tbody tr th:only-of-type {\n",
       "        vertical-align: middle;\n",
       "    }\n",
       "\n",
       "    .dataframe tbody tr th {\n",
       "        vertical-align: top;\n",
       "    }\n",
       "\n",
       "    .dataframe thead th {\n",
       "        text-align: right;\n",
       "    }\n",
       "</style>\n",
       "<table border=\"1\" class=\"dataframe\">\n",
       "  <thead>\n",
       "    <tr style=\"text-align: right;\">\n",
       "      <th></th>\n",
       "      <th>district</th>\n",
       "      <th>doc</th>\n",
       "      <th>pre_date</th>\n",
       "      <th>cur_date</th>\n",
       "      <th>days</th>\n",
       "      <th>pre_read</th>\n",
       "      <th>cur_read</th>\n",
       "      <th>consumption</th>\n",
       "      <th>bill</th>\n",
       "      <th>obstcle</th>\n",
       "      <th>meter</th>\n",
       "      <th>Y</th>\n",
       "      <th>X</th>\n",
       "      <th>ID</th>\n",
       "      <th>flats</th>\n",
       "      <th>land_use</th>\n",
       "      <th>capacity</th>\n",
       "      <th>diameter</th>\n",
       "    </tr>\n",
       "  </thead>\n",
       "  <tbody>\n",
       "    <tr>\n",
       "      <th>7</th>\n",
       "      <td>ناحيه 1 گرگان</td>\n",
       "      <td>11100009</td>\n",
       "      <td>950426</td>\n",
       "      <td>950525</td>\n",
       "      <td>30</td>\n",
       "      <td>147</td>\n",
       "      <td>147</td>\n",
       "      <td>0</td>\n",
       "      <td>19900</td>\n",
       "      <td>NaN</td>\n",
       "      <td>NaN</td>\n",
       "      <td>NaN</td>\n",
       "      <td>NaN</td>\n",
       "      <td>11145301</td>\n",
       "      <td>1</td>\n",
       "      <td>مسكوني</td>\n",
       "      <td>0</td>\n",
       "      <td>0.75</td>\n",
       "    </tr>\n",
       "    <tr>\n",
       "      <th>8</th>\n",
       "      <td>ناحيه 1 گرگان</td>\n",
       "      <td>11100009</td>\n",
       "      <td>950125</td>\n",
       "      <td>950226</td>\n",
       "      <td>32</td>\n",
       "      <td>147</td>\n",
       "      <td>147</td>\n",
       "      <td>0</td>\n",
       "      <td>21227</td>\n",
       "      <td>NaN</td>\n",
       "      <td>NaN</td>\n",
       "      <td>NaN</td>\n",
       "      <td>NaN</td>\n",
       "      <td>11145301</td>\n",
       "      <td>1</td>\n",
       "      <td>مسكوني</td>\n",
       "      <td>0</td>\n",
       "      <td>0.75</td>\n",
       "    </tr>\n",
       "    <tr>\n",
       "      <th>9</th>\n",
       "      <td>ناحيه 1 گرگان</td>\n",
       "      <td>11100009</td>\n",
       "      <td>941125</td>\n",
       "      <td>941229</td>\n",
       "      <td>34</td>\n",
       "      <td>147</td>\n",
       "      <td>147</td>\n",
       "      <td>0</td>\n",
       "      <td>20753</td>\n",
       "      <td>NaN</td>\n",
       "      <td>NaN</td>\n",
       "      <td>NaN</td>\n",
       "      <td>NaN</td>\n",
       "      <td>11145301</td>\n",
       "      <td>1</td>\n",
       "      <td>مسكوني</td>\n",
       "      <td>0</td>\n",
       "      <td>0.75</td>\n",
       "    </tr>\n",
       "    <tr>\n",
       "      <th>10</th>\n",
       "      <td>ناحيه 1 گرگان</td>\n",
       "      <td>11100009</td>\n",
       "      <td>941229</td>\n",
       "      <td>950125</td>\n",
       "      <td>25</td>\n",
       "      <td>147</td>\n",
       "      <td>147</td>\n",
       "      <td>0</td>\n",
       "      <td>16583</td>\n",
       "      <td>NaN</td>\n",
       "      <td>NaN</td>\n",
       "      <td>NaN</td>\n",
       "      <td>NaN</td>\n",
       "      <td>11145301</td>\n",
       "      <td>1</td>\n",
       "      <td>مسكوني</td>\n",
       "      <td>0</td>\n",
       "      <td>0.75</td>\n",
       "    </tr>\n",
       "    <tr>\n",
       "      <th>11</th>\n",
       "      <td>ناحيه 1 گرگان</td>\n",
       "      <td>11100009</td>\n",
       "      <td>950326</td>\n",
       "      <td>950426</td>\n",
       "      <td>31</td>\n",
       "      <td>147</td>\n",
       "      <td>147</td>\n",
       "      <td>0</td>\n",
       "      <td>20563</td>\n",
       "      <td>NaN</td>\n",
       "      <td>NaN</td>\n",
       "      <td>NaN</td>\n",
       "      <td>NaN</td>\n",
       "      <td>11145301</td>\n",
       "      <td>1</td>\n",
       "      <td>مسكوني</td>\n",
       "      <td>0</td>\n",
       "      <td>0.75</td>\n",
       "    </tr>\n",
       "    <tr>\n",
       "      <th>...</th>\n",
       "      <td>...</td>\n",
       "      <td>...</td>\n",
       "      <td>...</td>\n",
       "      <td>...</td>\n",
       "      <td>...</td>\n",
       "      <td>...</td>\n",
       "      <td>...</td>\n",
       "      <td>...</td>\n",
       "      <td>...</td>\n",
       "      <td>...</td>\n",
       "      <td>...</td>\n",
       "      <td>...</td>\n",
       "      <td>...</td>\n",
       "      <td>...</td>\n",
       "      <td>...</td>\n",
       "      <td>...</td>\n",
       "      <td>...</td>\n",
       "      <td>...</td>\n",
       "    </tr>\n",
       "    <tr>\n",
       "      <th>229148</th>\n",
       "      <td>ناحيه 2 گرگان</td>\n",
       "      <td>61697628</td>\n",
       "      <td>991004</td>\n",
       "      <td>991114</td>\n",
       "      <td>40</td>\n",
       "      <td>428</td>\n",
       "      <td>524</td>\n",
       "      <td>96</td>\n",
       "      <td>0</td>\n",
       "      <td>NaN</td>\n",
       "      <td>NaN</td>\n",
       "      <td>NaN</td>\n",
       "      <td>NaN</td>\n",
       "      <td>46171351</td>\n",
       "      <td>16</td>\n",
       "      <td>مسكوني</td>\n",
       "      <td>0</td>\n",
       "      <td>0.75</td>\n",
       "    </tr>\n",
       "    <tr>\n",
       "      <th>229149</th>\n",
       "      <td>ناحيه 2 گرگان</td>\n",
       "      <td>61697793</td>\n",
       "      <td>991004</td>\n",
       "      <td>991114</td>\n",
       "      <td>40</td>\n",
       "      <td>120</td>\n",
       "      <td>183</td>\n",
       "      <td>63</td>\n",
       "      <td>-1</td>\n",
       "      <td>NaN</td>\n",
       "      <td>NaN</td>\n",
       "      <td>NaN</td>\n",
       "      <td>NaN</td>\n",
       "      <td>46171368</td>\n",
       "      <td>16</td>\n",
       "      <td>مسكوني</td>\n",
       "      <td>0</td>\n",
       "      <td>0.75</td>\n",
       "    </tr>\n",
       "    <tr>\n",
       "      <th>229150</th>\n",
       "      <td>ناحيه 4 گرگان</td>\n",
       "      <td>61697885</td>\n",
       "      <td>991003</td>\n",
       "      <td>991115</td>\n",
       "      <td>42</td>\n",
       "      <td>268</td>\n",
       "      <td>335</td>\n",
       "      <td>67</td>\n",
       "      <td>448950</td>\n",
       "      <td>NaN</td>\n",
       "      <td>NaN</td>\n",
       "      <td>NaN</td>\n",
       "      <td>NaN</td>\n",
       "      <td>62011302</td>\n",
       "      <td>5</td>\n",
       "      <td>مسكوني</td>\n",
       "      <td>0</td>\n",
       "      <td>0.75</td>\n",
       "    </tr>\n",
       "    <tr>\n",
       "      <th>229151</th>\n",
       "      <td>ناحيه 7 گرگان</td>\n",
       "      <td>61697997</td>\n",
       "      <td>991014</td>\n",
       "      <td>991125</td>\n",
       "      <td>41</td>\n",
       "      <td>217</td>\n",
       "      <td>327</td>\n",
       "      <td>110</td>\n",
       "      <td>1158692</td>\n",
       "      <td>NaN</td>\n",
       "      <td>NaN</td>\n",
       "      <td>NaN</td>\n",
       "      <td>NaN</td>\n",
       "      <td>26283900</td>\n",
       "      <td>8</td>\n",
       "      <td>مسكوني</td>\n",
       "      <td>0</td>\n",
       "      <td>0.75</td>\n",
       "    </tr>\n",
       "    <tr>\n",
       "      <th>229152</th>\n",
       "      <td>ناحيه 2 گرگان</td>\n",
       "      <td>61698339</td>\n",
       "      <td>991004</td>\n",
       "      <td>991114</td>\n",
       "      <td>40</td>\n",
       "      <td>0</td>\n",
       "      <td>0</td>\n",
       "      <td>0</td>\n",
       "      <td>424533</td>\n",
       "      <td>NaN</td>\n",
       "      <td>NaN</td>\n",
       "      <td>NaN</td>\n",
       "      <td>NaN</td>\n",
       "      <td>46171369</td>\n",
       "      <td>16</td>\n",
       "      <td>مسكوني</td>\n",
       "      <td>0</td>\n",
       "      <td>0.75</td>\n",
       "    </tr>\n",
       "  </tbody>\n",
       "</table>\n",
       "<p>9861 rows × 18 columns</p>\n",
       "</div>"
      ],
      "text/plain": [
       "             district       doc  pre_date  cur_date  days  pre_read  cur_read  \\\n",
       "7       ناحيه 1 گرگان  11100009    950426    950525    30       147       147   \n",
       "8       ناحيه 1 گرگان  11100009    950125    950226    32       147       147   \n",
       "9       ناحيه 1 گرگان  11100009    941125    941229    34       147       147   \n",
       "10      ناحيه 1 گرگان  11100009    941229    950125    25       147       147   \n",
       "11      ناحيه 1 گرگان  11100009    950326    950426    31       147       147   \n",
       "...               ...       ...       ...       ...   ...       ...       ...   \n",
       "229148  ناحيه 2 گرگان  61697628    991004    991114    40       428       524   \n",
       "229149  ناحيه 2 گرگان  61697793    991004    991114    40       120       183   \n",
       "229150  ناحيه 4 گرگان  61697885    991003    991115    42       268       335   \n",
       "229151  ناحيه 7 گرگان  61697997    991014    991125    41       217       327   \n",
       "229152  ناحيه 2 گرگان  61698339    991004    991114    40         0         0   \n",
       "\n",
       "        consumption     bill obstcle meter   Y   X        ID  flats land_use  \\\n",
       "7                 0    19900     NaN   NaN NaN NaN  11145301      1   مسكوني   \n",
       "8                 0    21227     NaN   NaN NaN NaN  11145301      1   مسكوني   \n",
       "9                 0    20753     NaN   NaN NaN NaN  11145301      1   مسكوني   \n",
       "10                0    16583     NaN   NaN NaN NaN  11145301      1   مسكوني   \n",
       "11                0    20563     NaN   NaN NaN NaN  11145301      1   مسكوني   \n",
       "...             ...      ...     ...   ...  ..  ..       ...    ...      ...   \n",
       "229148           96        0     NaN   NaN NaN NaN  46171351     16   مسكوني   \n",
       "229149           63       -1     NaN   NaN NaN NaN  46171368     16   مسكوني   \n",
       "229150           67   448950     NaN   NaN NaN NaN  62011302      5   مسكوني   \n",
       "229151          110  1158692     NaN   NaN NaN NaN  26283900      8   مسكوني   \n",
       "229152            0   424533     NaN   NaN NaN NaN  46171369     16   مسكوني   \n",
       "\n",
       "        capacity  diameter  \n",
       "7              0      0.75  \n",
       "8              0      0.75  \n",
       "9              0      0.75  \n",
       "10             0      0.75  \n",
       "11             0      0.75  \n",
       "...          ...       ...  \n",
       "229148         0      0.75  \n",
       "229149         0      0.75  \n",
       "229150         0      0.75  \n",
       "229151         0      0.75  \n",
       "229152         0      0.75  \n",
       "\n",
       "[9861 rows x 18 columns]"
      ]
     },
     "execution_count": 6,
     "metadata": {},
     "output_type": "execute_result"
    }
   ],
   "source": [
    "x_nan_df = df[df['X'].isna()]\n",
    "x_nan_df"
   ]
  },
  {
   "cell_type": "code",
   "execution_count": null,
   "id": "eea38e3c",
   "metadata": {},
   "outputs": [],
   "source": []
  },
  {
   "cell_type": "markdown",
   "id": "c4f2e302",
   "metadata": {},
   "source": [
    "### این کار برای زمانی است که بخواهیم در داده های جدید جنریت شده مقدار nan در جدول ما وجود نداشته باشد"
   ]
  },
  {
   "cell_type": "code",
   "execution_count": 7,
   "id": "63553e66",
   "metadata": {},
   "outputs": [],
   "source": [
    "# df['obstcle'].fillna('نامشخص', inplace=True)"
   ]
  },
  {
   "cell_type": "markdown",
   "id": "86f8e508",
   "metadata": {},
   "source": [
    "### --------------------------------------------------------------------------"
   ]
  },
  {
   "cell_type": "code",
   "execution_count": 8,
   "id": "b97e928a",
   "metadata": {},
   "outputs": [
    {
     "data": {
      "text/plain": [
       "['ناحيه 1 گرگان',\n",
       " 'ناحيه 7 گرگان',\n",
       " 'ناحيه روستايي گرگان',\n",
       " ' قرارداد  3210 کد 101شرکت فاينانس پو يا فن هيرکان گر گان ',\n",
       " 'ناحيه 3 گرگان',\n",
       " ' قرارداد 1915 کد 102شرکت فاينانس پو يا فن هيرکان گر گان ',\n",
       " 'ناحيه 2 گرگان',\n",
       " 'ناحيه 8 گرگان',\n",
       " 'ناحيه 50 مراکز اداري دولتي ',\n",
       " 'ناحيه 6 گرگان',\n",
       " 'ناحيه 5 گرگان',\n",
       " ' قرارداد  3209 کد 10شرکت فاينانس پو يا فن هيرکان گر گان ',\n",
       " 'ناحيه 9 گرگان',\n",
       " 'ناحيه 4 گرگان',\n",
       " ' قرارداد 16135 کد 221شرکت فاينانس پيام سازه سپاهان  ',\n",
       " 'املاک استيجاري اموزشي  ']"
      ]
     },
     "execution_count": 8,
     "metadata": {},
     "output_type": "execute_result"
    }
   ],
   "source": [
    "district = list(set(df.district))\n",
    "district"
   ]
  },
  {
   "cell_type": "code",
   "execution_count": 9,
   "id": "d15d29a1",
   "metadata": {},
   "outputs": [
    {
     "name": "stdout",
     "output_type": "stream",
     "text": [
      "type of doc :  <class 'list'>\n",
      "len:  7820\n"
     ]
    },
    {
     "data": {
      "text/plain": [
       "[11239431,\n",
       " 41123854,\n",
       " 11468821,\n",
       " 11173910,\n",
       " 11599895,\n",
       " 11272217,\n",
       " 11272225,\n",
       " 11436066,\n",
       " 11501607,\n",
       " 11599917,\n",
       " 11665461,\n",
       " 11206711,\n",
       " 11468855,\n",
       " 11468863,\n",
       " 11436112,\n",
       " 11534416,\n",
       " 11698262,\n",
       " 11534424,\n",
       " 11370600,\n",
       " 41189481]"
      ]
     },
     "execution_count": 9,
     "metadata": {},
     "output_type": "execute_result"
    }
   ],
   "source": [
    "doc = list(set(df.doc))\n",
    "print('type of doc : ', type(doc))\n",
    "print('len: ', len(doc))\n",
    "doc[0:20]"
   ]
  },
  {
   "cell_type": "code",
   "execution_count": 10,
   "id": "63dcb0b5",
   "metadata": {},
   "outputs": [
    {
     "name": "stdout",
     "output_type": "stream",
     "text": [
      "type of doc :  <class 'list'>\n",
      "len:  7820\n"
     ]
    },
    {
     "data": {
      "text/plain": [
       "[11239431,\n",
       " 41123854,\n",
       " 11468821,\n",
       " 11173910,\n",
       " 11599895,\n",
       " 11272217,\n",
       " 11272225,\n",
       " 11436066,\n",
       " 11501607,\n",
       " 11599917,\n",
       " 11665461,\n",
       " 11206711,\n",
       " 11468855,\n",
       " 11468863,\n",
       " 11436112,\n",
       " 11534416,\n",
       " 11698262,\n",
       " 11534424,\n",
       " 11370600,\n",
       " 41189481]"
      ]
     },
     "execution_count": 10,
     "metadata": {},
     "output_type": "execute_result"
    }
   ],
   "source": [
    "pre_date = list(set(df.pre_date))\n",
    "print('type of doc : ', type(doc))\n",
    "print('len: ', len(doc))\n",
    "doc[0:20]"
   ]
  },
  {
   "cell_type": "code",
   "execution_count": 11,
   "id": "98ceb42d",
   "metadata": {},
   "outputs": [
    {
     "name": "stdout",
     "output_type": "stream",
     "text": [
      "type of doc :  <class 'list'>\n",
      "len:  1261\n"
     ]
    },
    {
     "data": {
      "text/plain": [
       "[950301,\n",
       " 950302,\n",
       " 950303,\n",
       " 950306,\n",
       " 950307,\n",
       " 950308,\n",
       " 950309,\n",
       " 950310,\n",
       " 950311,\n",
       " 950312,\n",
       " 950313,\n",
       " 950314,\n",
       " 950315,\n",
       " 950316,\n",
       " 950317,\n",
       " 950318,\n",
       " 950319,\n",
       " 950320,\n",
       " 950326,\n",
       " 950327]"
      ]
     },
     "execution_count": 11,
     "metadata": {},
     "output_type": "execute_result"
    }
   ],
   "source": [
    "cur_date = list(set(df.cur_date))\n",
    "print('type of doc : ', type(cur_date))\n",
    "print('len: ', len(cur_date))\n",
    "cur_date[0:20]"
   ]
  },
  {
   "cell_type": "code",
   "execution_count": 12,
   "id": "43f56e8a",
   "metadata": {},
   "outputs": [
    {
     "name": "stdout",
     "output_type": "stream",
     "text": [
      "type of doc :  <class 'list'>\n",
      "len:  353\n"
     ]
    },
    {
     "data": {
      "text/plain": [
       "[1, 2, 3, 4, 5, 6, 7, 8, 9, 10, 11, 12, 13, 14, 15, 16, 17, 18, 19, 20]"
      ]
     },
     "execution_count": 12,
     "metadata": {},
     "output_type": "execute_result"
    }
   ],
   "source": [
    "days = list(set(df.days))\n",
    "print('type of doc : ', type(days))\n",
    "print('len: ', len(days))\n",
    "days[0:20]"
   ]
  },
  {
   "cell_type": "code",
   "execution_count": 13,
   "id": "2cb23dfa",
   "metadata": {},
   "outputs": [
    {
     "name": "stdout",
     "output_type": "stream",
     "text": [
      "type of doc :  <class 'list'>\n",
      "len:  16023\n"
     ]
    },
    {
     "data": {
      "text/plain": [
       "[0, 1, 2, 3, 4, 5, 6, 7, 8, 9, 10, 11, 12, 13, 14, 15, 16, 17, 18, 19]"
      ]
     },
     "execution_count": 13,
     "metadata": {},
     "output_type": "execute_result"
    }
   ],
   "source": [
    "pre_read = list(set(df.pre_read)) \n",
    "print('type of doc : ', type(pre_read))\n",
    "print('len: ', len(pre_read))\n",
    "pre_read[0:20]"
   ]
  },
  {
   "cell_type": "code",
   "execution_count": 14,
   "id": "222bad0b",
   "metadata": {},
   "outputs": [
    {
     "name": "stdout",
     "output_type": "stream",
     "text": [
      "type of doc :  <class 'list'>\n",
      "len:  16110\n"
     ]
    },
    {
     "data": {
      "text/plain": [
       "[0, 1, 2, 3, 4, 5, 6, 7, 8, 9, 10, 11, 12, 13, 14, 15, 16, 17, 18, 19]"
      ]
     },
     "execution_count": 14,
     "metadata": {},
     "output_type": "execute_result"
    }
   ],
   "source": [
    "cur_read = list(set(df.cur_read)) \n",
    "print('type of doc : ', type(cur_read))\n",
    "print('len: ', len(cur_read))\n",
    "cur_read[0:20]"
   ]
  },
  {
   "cell_type": "code",
   "execution_count": 15,
   "id": "5d8be3e8",
   "metadata": {},
   "outputs": [
    {
     "name": "stdout",
     "output_type": "stream",
     "text": [
      "type of doc :  <class 'list'>\n",
      "len:  758\n"
     ]
    },
    {
     "data": {
      "text/plain": [
       "[0, 1, 2, 3, 4, 5, 6, 7, 8, 9, 10, 11, 12, 13, 14, 15, 16, 17, 18, 19]"
      ]
     },
     "execution_count": 15,
     "metadata": {},
     "output_type": "execute_result"
    }
   ],
   "source": [
    "consumption = list(set(df.consumption)) \n",
    "print('type of doc : ', type(consumption))\n",
    "print('len: ', len(consumption))\n",
    "consumption[0:20]"
   ]
  },
  {
   "cell_type": "code",
   "execution_count": 16,
   "id": "2dbbc780",
   "metadata": {},
   "outputs": [
    {
     "name": "stdout",
     "output_type": "stream",
     "text": [
      "type of doc :  <class 'list'>\n",
      "len:  143204\n"
     ]
    },
    {
     "data": {
      "text/plain": [
       "[0,\n",
       " 1,\n",
       " 1572866,\n",
       " 1048586,\n",
       " 524301,\n",
       " 786445,\n",
       " 262165,\n",
       " 1048600,\n",
       " 262169,\n",
       " 786458,\n",
       " 262172,\n",
       " 524318,\n",
       " 786463,\n",
       " 1048609,\n",
       " 1835044,\n",
       " 524326,\n",
       " 524327,\n",
       " 786471,\n",
       " 1310761,\n",
       " 262184]"
      ]
     },
     "execution_count": 16,
     "metadata": {},
     "output_type": "execute_result"
    }
   ],
   "source": [
    "bill = list(set(df.bill)) \n",
    "print('type of doc : ', type(bill))\n",
    "print('len: ', len(bill))\n",
    "bill[0:20]"
   ]
  },
  {
   "cell_type": "code",
   "execution_count": 17,
   "id": "ae14c02a",
   "metadata": {},
   "outputs": [
    {
     "name": "stdout",
     "output_type": "stream",
     "text": [
      "type of doc :  <class 'list'>\n",
      "len:  3\n"
     ]
    },
    {
     "data": {
      "text/plain": [
       "[nan, 'از کار افتاده', 'قرائت نشده']"
      ]
     },
     "execution_count": 17,
     "metadata": {},
     "output_type": "execute_result"
    }
   ],
   "source": [
    "obstcle = list(set(df.obstcle)) \n",
    "print('type of doc : ', type(obstcle))\n",
    "print('len: ', len(obstcle))\n",
    "obstcle[0:20]"
   ]
  },
  {
   "cell_type": "code",
   "execution_count": 18,
   "id": "c62de8b6",
   "metadata": {},
   "outputs": [
    {
     "name": "stdout",
     "output_type": "stream",
     "text": [
      "type of doc :  <class 'list'>\n",
      "len:  1727\n"
     ]
    },
    {
     "data": {
      "text/plain": [
       "['1395/11/17',\n",
       " '1395/05/25',\n",
       " '1393/05/29',\n",
       " '1396/01/08',\n",
       " '1396/09/08',\n",
       " '1397/08/22',\n",
       " '1393/12/17',\n",
       " '1397/02/16',\n",
       " '1394/06/02',\n",
       " '1397/04/28',\n",
       " '1396/12/17',\n",
       " '1396/01/03',\n",
       " '1391/10/25',\n",
       " '1390/10/25',\n",
       " '1396/07/20',\n",
       " '1397/10/11',\n",
       " '1396/04/22',\n",
       " '1396/07/19',\n",
       " '1394/06/01',\n",
       " '1396/08/08']"
      ]
     },
     "execution_count": 18,
     "metadata": {},
     "output_type": "execute_result"
    }
   ],
   "source": [
    "meter = list(set(df.meter)) \n",
    "print('type of doc : ', type(meter))\n",
    "print('len: ', len(meter))\n",
    "meter[0:20]"
   ]
  },
  {
   "cell_type": "code",
   "execution_count": 19,
   "id": "09375cfc",
   "metadata": {},
   "outputs": [
    {
     "name": "stdout",
     "output_type": "stream",
     "text": [
      "type of doc :  <class 'list'>\n",
      "len:  17184\n"
     ]
    },
    {
     "data": {
      "text/plain": [
       "[nan,\n",
       " nan,\n",
       " nan,\n",
       " nan,\n",
       " nan,\n",
       " 4079519.15463,\n",
       " nan,\n",
       " 4079519.24196,\n",
       " nan,\n",
       " nan,\n",
       " nan,\n",
       " nan,\n",
       " nan,\n",
       " nan,\n",
       " nan,\n",
       " nan,\n",
       " nan,\n",
       " nan,\n",
       " nan,\n",
       " 4080822.01771]"
      ]
     },
     "execution_count": 19,
     "metadata": {},
     "output_type": "execute_result"
    }
   ],
   "source": [
    "Y = list(set(df.Y)) \n",
    "print('type of doc : ', type(Y))\n",
    "print('len: ', len(Y))\n",
    "Y[0:20]"
   ]
  },
  {
   "cell_type": "code",
   "execution_count": 20,
   "id": "c2818639",
   "metadata": {},
   "outputs": [
    {
     "name": "stdout",
     "output_type": "stream",
     "text": [
      "type of doc :  <class 'list'>\n",
      "len:  17206\n"
     ]
    },
    {
     "data": {
      "text/plain": [
       "[nan,\n",
       " nan,\n",
       " nan,\n",
       " nan,\n",
       " nan,\n",
       " nan,\n",
       " nan,\n",
       " nan,\n",
       " nan,\n",
       " nan,\n",
       " 273546.676798,\n",
       " nan,\n",
       " nan,\n",
       " nan,\n",
       " nan,\n",
       " 31.87021,\n",
       " nan,\n",
       " nan,\n",
       " nan,\n",
       " 36.847398600000005]"
      ]
     },
     "execution_count": 20,
     "metadata": {},
     "output_type": "execute_result"
    }
   ],
   "source": [
    "X = list(set(df.X)) \n",
    "print('type of doc : ', type(X))\n",
    "print('len: ', len(X))\n",
    "X[0:20]"
   ]
  },
  {
   "cell_type": "code",
   "execution_count": 21,
   "id": "effd1eca",
   "metadata": {},
   "outputs": [
    {
     "name": "stdout",
     "output_type": "stream",
     "text": [
      "type of doc :  <class 'list'>\n",
      "len:  7820\n"
     ]
    },
    {
     "data": {
      "text/plain": [
       "[41680900,\n",
       " 21102601,\n",
       " 25002000,\n",
       " 14352400,\n",
       " 23363600,\n",
       " 12222500,\n",
       " 41713701,\n",
       " 42532900,\n",
       " 16941100,\n",
       " 25034800,\n",
       " 16842800,\n",
       " 16744500,\n",
       " 21561400,\n",
       " 16646200,\n",
       " 26476600,\n",
       " 23101500,\n",
       " 41943100,\n",
       " 45121600,\n",
       " 26280001,\n",
       " 14712900]"
      ]
     },
     "execution_count": 21,
     "metadata": {},
     "output_type": "execute_result"
    }
   ],
   "source": [
    "ID = list(set(df.ID)) \n",
    "print('type of doc : ', type(ID))\n",
    "print('len: ', len(ID))\n",
    "ID[0:20]"
   ]
  },
  {
   "cell_type": "code",
   "execution_count": 22,
   "id": "9dbfef68",
   "metadata": {},
   "outputs": [
    {
     "name": "stdout",
     "output_type": "stream",
     "text": [
      "type of doc :  <class 'list'>\n",
      "len:  24\n"
     ]
    },
    {
     "data": {
      "text/plain": [
       "[1, 2, 3, 4, 5, 6, 7, 8, 9, 10, 11, 12, 13, 14, 15, 16, 17, 18, 20, 21]"
      ]
     },
     "execution_count": 22,
     "metadata": {},
     "output_type": "execute_result"
    }
   ],
   "source": [
    "flats = list(set(df.flats )) \n",
    "print('type of doc : ', type(flats ))\n",
    "print('len: ', len(flats ))\n",
    "flats[0:20]"
   ]
  },
  {
   "cell_type": "code",
   "execution_count": 23,
   "id": "6f2c1e4c",
   "metadata": {},
   "outputs": [
    {
     "name": "stdout",
     "output_type": "stream",
     "text": [
      "type of doc :  <class 'list'>\n",
      "len:  1\n"
     ]
    },
    {
     "data": {
      "text/plain": [
       "['مسكوني']"
      ]
     },
     "execution_count": 23,
     "metadata": {},
     "output_type": "execute_result"
    }
   ],
   "source": [
    "land_use = list(set(df.land_use ))\n",
    "print('type of doc : ', type(land_use))\n",
    "print('len: ', len(land_use ))\n",
    "land_use [0:20]"
   ]
  },
  {
   "cell_type": "code",
   "execution_count": 24,
   "id": "7faccfde",
   "metadata": {},
   "outputs": [
    {
     "name": "stdout",
     "output_type": "stream",
     "text": [
      "type of doc :  <class 'list'>\n",
      "len:  57\n"
     ]
    },
    {
     "data": {
      "text/plain": [
       "[0, 131, 5, 6, 7, 8, 9, 10, 11, 12, 13, 14, 15, 16, 17, 18, 19, 20, 22, 23]"
      ]
     },
     "execution_count": 24,
     "metadata": {},
     "output_type": "execute_result"
    }
   ],
   "source": [
    "capacity = list(set(df.capacity )) \n",
    "print('type of doc : ', type(capacity ))\n",
    "print('len: ', len(capacity ))\n",
    "capacity [0:20]"
   ]
  },
  {
   "cell_type": "code",
   "execution_count": 25,
   "id": "866e39c9",
   "metadata": {},
   "outputs": [
    {
     "name": "stdout",
     "output_type": "stream",
     "text": [
      "type of doc :  <class 'list'>\n",
      "len:  1\n"
     ]
    },
    {
     "data": {
      "text/plain": [
       "[0.75]"
      ]
     },
     "execution_count": 25,
     "metadata": {},
     "output_type": "execute_result"
    }
   ],
   "source": [
    "diameter  = list(set(df.diameter )) \n",
    "print('type of doc : ', type(diameter ))\n",
    "print('len: ', len(diameter ))\n",
    "diameter [0:20]"
   ]
  },
  {
   "cell_type": "markdown",
   "id": "bc36d3eb",
   "metadata": {},
   "source": [
    "### Genrating new data"
   ]
  },
  {
   "cell_type": "code",
   "execution_count": 26,
   "id": "6c2fcb9f",
   "metadata": {},
   "outputs": [
    {
     "name": "stdout",
     "output_type": "stream",
     "text": [
      "type of district_gen :  <class 'numpy.ndarray'>\n",
      "len:  10000\n"
     ]
    },
    {
     "data": {
      "text/plain": [
       "array(['ناحيه 50 مراکز اداري دولتي ', 'ناحيه 8 گرگان', 'ناحيه 5 گرگان',\n",
       "       'ناحيه 4 گرگان', 'ناحيه 6 گرگان',\n",
       "       ' قرارداد 16135 کد 221شرکت فاينانس پيام سازه سپاهان  ',\n",
       "       ' قرارداد  3210 کد 101شرکت فاينانس پو يا فن هيرکان گر گان ',\n",
       "       'ناحيه 4 گرگان',\n",
       "       ' قرارداد 16135 کد 221شرکت فاينانس پيام سازه سپاهان  ',\n",
       "       'ناحيه 50 مراکز اداري دولتي ', 'ناحيه روستايي گرگان',\n",
       "       ' قرارداد 16135 کد 221شرکت فاينانس پيام سازه سپاهان  ',\n",
       "       'ناحيه 50 مراکز اداري دولتي ', 'ناحيه 9 گرگان',\n",
       "       'املاک استيجاري اموزشي  ', 'ناحيه روستايي گرگان',\n",
       "       ' قرارداد 16135 کد 221شرکت فاينانس پيام سازه سپاهان  ',\n",
       "       'املاک استيجاري اموزشي  ', 'ناحيه 9 گرگان', 'ناحيه 4 گرگان'],\n",
       "      dtype='<U57')"
      ]
     },
     "execution_count": 26,
     "metadata": {},
     "output_type": "execute_result"
    }
   ],
   "source": [
    "district_gen = np.random.choice(district, size=10000)\n",
    "print('type of district_gen : ', type(district_gen ))\n",
    "print('len: ', len(district_gen ))\n",
    "district_gen [0:20]"
   ]
  },
  {
   "cell_type": "code",
   "execution_count": 27,
   "id": "3b296d06",
   "metadata": {},
   "outputs": [
    {
     "name": "stdout",
     "output_type": "stream",
     "text": [
      "type of doc_gen :  <class 'numpy.ndarray'>\n",
      "len:  10000\n"
     ]
    },
    {
     "data": {
      "text/plain": [
       "array([11292510, 11705225, 11147901, 11157787, 41119865, 11308718,\n",
       "       11113402, 11328638, 11631137, 11487574, 11533363, 41140023,\n",
       "       41016594, 11471848, 41112798, 11562282, 11249754, 11256041,\n",
       "       41143090, 11608371])"
      ]
     },
     "execution_count": 27,
     "metadata": {},
     "output_type": "execute_result"
    }
   ],
   "source": [
    "doc_gen = np.random.choice(doc, size=10000)\n",
    "print('type of doc_gen : ', type(doc_gen))\n",
    "print('len: ', len(doc_gen))\n",
    "doc_gen[0:20]"
   ]
  },
  {
   "cell_type": "code",
   "execution_count": 28,
   "id": "c599e20e",
   "metadata": {},
   "outputs": [
    {
     "name": "stdout",
     "output_type": "stream",
     "text": [
      "type of pre_date_gen :  <class 'numpy.ndarray'>\n",
      "len:  10000\n"
     ]
    },
    {
     "data": {
      "text/plain": [
       "array([960418, 980921, 950426, 941010, 981125, 950618, 990307, 960820,\n",
       "       981121, 980117, 981025, 960224, 980710, 980630, 960317, 981003,\n",
       "       950531, 941112, 990208, 941112])"
      ]
     },
     "execution_count": 28,
     "metadata": {},
     "output_type": "execute_result"
    }
   ],
   "source": [
    "pre_date_gen = np.random.choice(pre_date, size=10000)\n",
    "print('type of pre_date_gen : ', type(pre_date_gen))\n",
    "print('len: ', len(pre_date_gen))\n",
    "pre_date_gen[0:20]"
   ]
  },
  {
   "cell_type": "code",
   "execution_count": 29,
   "id": "997670d8",
   "metadata": {},
   "outputs": [
    {
     "name": "stdout",
     "output_type": "stream",
     "text": [
      "type of cur_date_gen :  <class 'numpy.ndarray'>\n",
      "len:  10000\n"
     ]
    },
    {
     "data": {
      "text/plain": [
       "array([970825, 961014, 980207, 990214, 960226, 980908, 980205, 980925,\n",
       "       960903, 980526, 960230, 951026, 990611, 971006, 970430, 991002,\n",
       "       970123, 950920, 950823, 990417])"
      ]
     },
     "execution_count": 29,
     "metadata": {},
     "output_type": "execute_result"
    }
   ],
   "source": [
    "cur_date_gen = np.random.choice(cur_date, size=10000)\n",
    "print('type of cur_date_gen : ', type(cur_date_gen))\n",
    "print('len: ', len(cur_date_gen))\n",
    "cur_date_gen[0:20]"
   ]
  },
  {
   "cell_type": "code",
   "execution_count": 30,
   "id": "498ffbb4",
   "metadata": {},
   "outputs": [
    {
     "name": "stdout",
     "output_type": "stream",
     "text": [
      "type of days_gen :  <class 'numpy.ndarray'>\n",
      "len:  10000\n"
     ]
    },
    {
     "data": {
      "text/plain": [
       "array([ 47,  97, 173, 152,  82,  20, 436, 233,  57,  84, 230, 125, 189,\n",
       "       171, 153,  60,  36,  86, 700, 314])"
      ]
     },
     "execution_count": 30,
     "metadata": {},
     "output_type": "execute_result"
    }
   ],
   "source": [
    "days_gen = np.random.choice(days, size=10000)\n",
    "print('type of days_gen : ', type(days_gen))\n",
    "print('len: ', len(days_gen))\n",
    "days_gen[0:20]"
   ]
  },
  {
   "cell_type": "code",
   "execution_count": 31,
   "id": "4f9e9a55",
   "metadata": {},
   "outputs": [
    {
     "name": "stdout",
     "output_type": "stream",
     "text": [
      "type of pre_read_gen :  <class 'numpy.ndarray'>\n",
      "len:  10000\n"
     ]
    },
    {
     "data": {
      "text/plain": [
       "array([ 1564, 10395, 13502,  7385, 12472,  6135, 12183,  3886,  9652,\n",
       "       15924,  8556,  5779,  7248, 15981, 18701,  6884,  4822,  2633,\n",
       "       10141,  9932])"
      ]
     },
     "execution_count": 31,
     "metadata": {},
     "output_type": "execute_result"
    }
   ],
   "source": [
    "pre_read_gen = np.random.choice(pre_read, size=10000)\n",
    "print('type of pre_read_gen : ', type(pre_read_gen))\n",
    "print('len: ', len(pre_read_gen))\n",
    "pre_read_gen[0:20]"
   ]
  },
  {
   "cell_type": "code",
   "execution_count": 32,
   "id": "3ad58cf8",
   "metadata": {},
   "outputs": [
    {
     "name": "stdout",
     "output_type": "stream",
     "text": [
      "type of cur_read_gen :  <class 'numpy.ndarray'>\n",
      "len:  10000\n"
     ]
    },
    {
     "data": {
      "text/plain": [
       "array([16155, 12159, 13985,  3188, 12692, 19288, 12067,   757,  5353,\n",
       "       15388, 17773,  8912,  5143, 15577,  1081, 14468, 20393,  9368,\n",
       "        4147, 12927])"
      ]
     },
     "execution_count": 32,
     "metadata": {},
     "output_type": "execute_result"
    }
   ],
   "source": [
    "cur_read_gen = np.random.choice(cur_read, size=10000)\n",
    "print('type of cur_read_gen : ', type(cur_read_gen))\n",
    "print('len: ', len(cur_read_gen))\n",
    "cur_read_gen[0:20]"
   ]
  },
  {
   "cell_type": "code",
   "execution_count": 33,
   "id": "701ccc49",
   "metadata": {},
   "outputs": [
    {
     "name": "stdout",
     "output_type": "stream",
     "text": [
      "type of consumption_gen :  <class 'numpy.ndarray'>\n",
      "len:  10000\n"
     ]
    },
    {
     "data": {
      "text/plain": [
       "array([ 412,  371,  410,  433,  486,  104,  607,  122,  432,  195,  624,\n",
       "        650, 2771,  352,  499,   44,  564,   72,  526,  612])"
      ]
     },
     "execution_count": 33,
     "metadata": {},
     "output_type": "execute_result"
    }
   ],
   "source": [
    "consumption_gen = np.random.choice(consumption, size=10000)\n",
    "print('type of consumption_gen : ', type(consumption_gen))\n",
    "print('len: ', len(consumption_gen))\n",
    "consumption_gen[0:20]"
   ]
  },
  {
   "cell_type": "code",
   "execution_count": 34,
   "id": "aa0b97fc",
   "metadata": {},
   "outputs": [
    {
     "name": "stdout",
     "output_type": "stream",
     "text": [
      "type of bill_gen :  <class 'numpy.ndarray'>\n",
      "len:  10000\n"
     ]
    },
    {
     "data": {
      "text/plain": [
       "array([ 633996,  568685,  108353, 1219749,  136407, 1612706, 1056691,\n",
       "       1261071,  166535,  984975, 1466075, 1494762,  505102,  511523,\n",
       "        972026,  959892,  837810,   57494, 1862101, 1143926])"
      ]
     },
     "execution_count": 34,
     "metadata": {},
     "output_type": "execute_result"
    }
   ],
   "source": [
    "bill_gen = np.random.choice(bill, size=10000)\n",
    "print('type of bill_gen : ', type(bill_gen))\n",
    "print('len: ', len(bill_gen))\n",
    "bill_gen[0:20]"
   ]
  },
  {
   "cell_type": "code",
   "execution_count": 35,
   "id": "fb728221",
   "metadata": {},
   "outputs": [
    {
     "name": "stdout",
     "output_type": "stream",
     "text": [
      "type of obstcle_gen :  <class 'numpy.ndarray'>\n",
      "len:  10000\n"
     ]
    },
    {
     "data": {
      "text/plain": [
       "array(['nan', 'قرائت نشده', 'از کار افتاده', 'قرائت نشده', 'قرائت نشده',\n",
       "       'nan', 'قرائت نشده', 'از کار افتاده', 'nan', 'قرائت نشده', 'nan',\n",
       "       'nan', 'nan', 'از کار افتاده', 'nan', 'nan', 'nan', 'nan',\n",
       "       'از کار افتاده', 'از کار افتاده'], dtype='<U32')"
      ]
     },
     "execution_count": 35,
     "metadata": {},
     "output_type": "execute_result"
    }
   ],
   "source": [
    "obstcle_gen = np.random.choice(obstcle, size=10000)\n",
    "print('type of obstcle_gen : ', type(obstcle_gen))\n",
    "print('len: ', len(obstcle_gen))\n",
    "obstcle_gen[0:20]"
   ]
  },
  {
   "cell_type": "code",
   "execution_count": 36,
   "id": "5838ed4c",
   "metadata": {},
   "outputs": [
    {
     "name": "stdout",
     "output_type": "stream",
     "text": [
      "type of meter_gen :  <class 'numpy.ndarray'>\n",
      "len:  10000\n"
     ]
    },
    {
     "data": {
      "text/plain": [
       "array(['1396/02/19', '1395/06/20', '1390/12/24', '1391/02/12',\n",
       "       '1397/11/25', '1397/07/07', '1395/09/15', '1390/02/24',\n",
       "       '1395/07/05', '1396/12/23', '1390/03/08', '1391/08/30',\n",
       "       '1397/08/02', '1398/05/14', '1398/10/25', '1393/02/15',\n",
       "       '1392/10/22', '1391/12/26', '1391/06/04', '1394/06/01'],\n",
       "      dtype='<U32')"
      ]
     },
     "execution_count": 36,
     "metadata": {},
     "output_type": "execute_result"
    }
   ],
   "source": [
    "meter_gen = np.random.choice(meter, size=10000)\n",
    "print('type of meter_gen : ', type(meter_gen))\n",
    "print('len: ', len(meter_gen))\n",
    "meter_gen[0:20]"
   ]
  },
  {
   "cell_type": "code",
   "execution_count": 37,
   "id": "819d598d",
   "metadata": {},
   "outputs": [
    {
     "name": "stdout",
     "output_type": "stream",
     "text": [
      "type of Y_gen :  <class 'numpy.ndarray'>\n",
      "len:  10000\n"
     ]
    },
    {
     "data": {
      "text/plain": [
       "array([4079694.14149,           nan,           nan,           nan,\n",
       "                 nan, 4078122.92627, 4080191.10516,           nan,\n",
       "       4077075.19728, 4079303.72384,           nan, 4080219.678  ,\n",
       "                 nan,           nan,           nan, 4080411.83375,\n",
       "                 nan,           nan, 4076067.73362,           nan])"
      ]
     },
     "execution_count": 37,
     "metadata": {},
     "output_type": "execute_result"
    }
   ],
   "source": [
    "Y_gen = np.random.choice(Y, size=10000)\n",
    "print('type of Y_gen : ', type(Y_gen))\n",
    "print('len: ', len(Y_gen))\n",
    "Y_gen[0:20]"
   ]
  },
  {
   "cell_type": "code",
   "execution_count": 38,
   "id": "02cdcb30",
   "metadata": {},
   "outputs": [
    {
     "name": "stdout",
     "output_type": "stream",
     "text": [
      "type of X_gen :  <class 'numpy.ndarray'>\n",
      "len:  10000\n"
     ]
    },
    {
     "data": {
      "text/plain": [
       "array([270177.868594,           nan, 272725.693345,           nan,\n",
       "       271984.104536,           nan,           nan,           nan,\n",
       "       270680.308017,           nan,           nan, 272291.819571,\n",
       "                 nan, 273044.646606,           nan,           nan,\n",
       "       272352.230888,           nan,           nan,           nan])"
      ]
     },
     "execution_count": 38,
     "metadata": {},
     "output_type": "execute_result"
    }
   ],
   "source": [
    "X_gen = np.random.choice(X, size=10000)\n",
    "print('type of X_gen : ', type(X_gen))\n",
    "print('len: ', len(X_gen))\n",
    "X_gen[0:20]"
   ]
  },
  {
   "cell_type": "code",
   "execution_count": 39,
   "id": "0c9b6a51",
   "metadata": {},
   "outputs": [
    {
     "name": "stdout",
     "output_type": "stream",
     "text": [
      "type of ID_gen :  <class 'numpy.ndarray'>\n",
      "len:  10000\n"
     ]
    },
    {
     "data": {
      "text/plain": [
       "array([46620700, 43055800, 36070600, 42761200, 12030900, 24030500,\n",
       "       42240900, 42550800, 22450500, 26248300, 21635400, 27072500,\n",
       "       22250900, 51730250, 63012100, 16811125, 24051000, 17787500,\n",
       "       41561201, 16570500])"
      ]
     },
     "execution_count": 39,
     "metadata": {},
     "output_type": "execute_result"
    }
   ],
   "source": [
    "ID_gen = np.random.choice(ID, size=10000)\n",
    "print('type of ID_gen : ', type(ID_gen))\n",
    "print('len: ', len(ID_gen))\n",
    "ID_gen[0:20]"
   ]
  },
  {
   "cell_type": "code",
   "execution_count": 40,
   "id": "5b2b385c",
   "metadata": {},
   "outputs": [
    {
     "name": "stdout",
     "output_type": "stream",
     "text": [
      "type of flats_gen :  <class 'numpy.ndarray'>\n",
      "len:  10000\n"
     ]
    },
    {
     "data": {
      "text/plain": [
       "array([42, 17, 13,  9, 42, 16, 11,  3, 20,  5, 23, 12,  5, 16, 23,  6, 24,\n",
       "        1, 16, 10])"
      ]
     },
     "execution_count": 40,
     "metadata": {},
     "output_type": "execute_result"
    }
   ],
   "source": [
    "flats_gen = np.random.choice(flats, size=10000)\n",
    "print('type of flats_gen : ', type(flats_gen))\n",
    "print('len: ', len(flats_gen))\n",
    "flats_gen[0:20]"
   ]
  },
  {
   "cell_type": "code",
   "execution_count": 41,
   "id": "21f59b2c",
   "metadata": {},
   "outputs": [
    {
     "name": "stdout",
     "output_type": "stream",
     "text": [
      "type of land_use_gen :  <class 'numpy.ndarray'>\n",
      "len:  10000\n"
     ]
    },
    {
     "data": {
      "text/plain": [
       "array(['مسكوني', 'مسكوني', 'مسكوني', 'مسكوني', 'مسكوني', 'مسكوني',\n",
       "       'مسكوني', 'مسكوني', 'مسكوني', 'مسكوني', 'مسكوني', 'مسكوني',\n",
       "       'مسكوني', 'مسكوني', 'مسكوني', 'مسكوني', 'مسكوني', 'مسكوني',\n",
       "       'مسكوني', 'مسكوني'], dtype='<U6')"
      ]
     },
     "execution_count": 41,
     "metadata": {},
     "output_type": "execute_result"
    }
   ],
   "source": [
    "land_use_gen = np.random.choice(land_use, size=10000)\n",
    "print('type of land_use_gen : ', type(land_use_gen))\n",
    "print('len: ', len(land_use_gen))\n",
    "land_use_gen[0:20]"
   ]
  },
  {
   "cell_type": "code",
   "execution_count": 42,
   "id": "c6b128f8",
   "metadata": {},
   "outputs": [
    {
     "name": "stdout",
     "output_type": "stream",
     "text": [
      "type of capacity_gen :  <class 'numpy.ndarray'>\n",
      "len:  10000\n"
     ]
    },
    {
     "data": {
      "text/plain": [
       "array([100,  70,  66,  60,  17,   6,  30,  37,  13,  35,  35, 114,  10,\n",
       "        10,  14,  36,  28,  52,  14,   8])"
      ]
     },
     "execution_count": 42,
     "metadata": {},
     "output_type": "execute_result"
    }
   ],
   "source": [
    "capacity_gen = np.random.choice(capacity, size=10000)\n",
    "print('type of capacity_gen : ', type(capacity_gen))\n",
    "print('len: ', len(capacity_gen))\n",
    "capacity_gen[0:20]"
   ]
  },
  {
   "cell_type": "code",
   "execution_count": 43,
   "id": "f86b3d58",
   "metadata": {},
   "outputs": [
    {
     "name": "stdout",
     "output_type": "stream",
     "text": [
      "type of diameter_gen :  <class 'numpy.ndarray'>\n",
      "len:  10000\n"
     ]
    },
    {
     "data": {
      "text/plain": [
       "array([0.75, 0.75, 0.75, 0.75, 0.75, 0.75, 0.75, 0.75, 0.75, 0.75, 0.75,\n",
       "       0.75, 0.75, 0.75, 0.75, 0.75, 0.75, 0.75, 0.75, 0.75])"
      ]
     },
     "execution_count": 43,
     "metadata": {},
     "output_type": "execute_result"
    }
   ],
   "source": [
    "diameter_gen = np.random.choice(diameter, size=10000)\n",
    "print('type of diameter_gen : ', type(diameter_gen))\n",
    "print('len: ', len(diameter_gen))\n",
    "diameter_gen[0:20]"
   ]
  },
  {
   "cell_type": "code",
   "execution_count": 51,
   "id": "d95cc70b",
   "metadata": {},
   "outputs": [
    {
     "data": {
      "text/html": [
       "<div>\n",
       "<style scoped>\n",
       "    .dataframe tbody tr th:only-of-type {\n",
       "        vertical-align: middle;\n",
       "    }\n",
       "\n",
       "    .dataframe tbody tr th {\n",
       "        vertical-align: top;\n",
       "    }\n",
       "\n",
       "    .dataframe thead th {\n",
       "        text-align: right;\n",
       "    }\n",
       "</style>\n",
       "<table border=\"1\" class=\"dataframe\">\n",
       "  <thead>\n",
       "    <tr style=\"text-align: right;\">\n",
       "      <th></th>\n",
       "      <th>district</th>\n",
       "      <th>doc</th>\n",
       "      <th>pre_date</th>\n",
       "      <th>cur_date</th>\n",
       "      <th>days</th>\n",
       "      <th>pre_read</th>\n",
       "      <th>cur_read</th>\n",
       "      <th>consumption</th>\n",
       "      <th>bill</th>\n",
       "      <th>obstcle</th>\n",
       "      <th>meter</th>\n",
       "      <th>Y</th>\n",
       "      <th>X</th>\n",
       "      <th>ID</th>\n",
       "      <th>flats</th>\n",
       "      <th>land_use</th>\n",
       "      <th>capacity</th>\n",
       "      <th>diameter</th>\n",
       "    </tr>\n",
       "  </thead>\n",
       "  <tbody>\n",
       "    <tr>\n",
       "      <th>0</th>\n",
       "      <td>ناحيه 50 مراکز اداري دولتي</td>\n",
       "      <td>11292510</td>\n",
       "      <td>960418</td>\n",
       "      <td>970825</td>\n",
       "      <td>47</td>\n",
       "      <td>1564</td>\n",
       "      <td>16155</td>\n",
       "      <td>412</td>\n",
       "      <td>633996</td>\n",
       "      <td>nan</td>\n",
       "      <td>1396/02/19</td>\n",
       "      <td>4.079694e+06</td>\n",
       "      <td>270177.868594</td>\n",
       "      <td>46620700</td>\n",
       "      <td>42</td>\n",
       "      <td>مسكوني</td>\n",
       "      <td>100</td>\n",
       "      <td>0.75</td>\n",
       "    </tr>\n",
       "    <tr>\n",
       "      <th>1</th>\n",
       "      <td>ناحيه 8 گرگان</td>\n",
       "      <td>11705225</td>\n",
       "      <td>980921</td>\n",
       "      <td>961014</td>\n",
       "      <td>97</td>\n",
       "      <td>10395</td>\n",
       "      <td>12159</td>\n",
       "      <td>371</td>\n",
       "      <td>568685</td>\n",
       "      <td>قرائت نشده</td>\n",
       "      <td>1395/06/20</td>\n",
       "      <td>NaN</td>\n",
       "      <td>NaN</td>\n",
       "      <td>43055800</td>\n",
       "      <td>17</td>\n",
       "      <td>مسكوني</td>\n",
       "      <td>70</td>\n",
       "      <td>0.75</td>\n",
       "    </tr>\n",
       "    <tr>\n",
       "      <th>2</th>\n",
       "      <td>ناحيه 5 گرگان</td>\n",
       "      <td>11147901</td>\n",
       "      <td>950426</td>\n",
       "      <td>980207</td>\n",
       "      <td>173</td>\n",
       "      <td>13502</td>\n",
       "      <td>13985</td>\n",
       "      <td>410</td>\n",
       "      <td>108353</td>\n",
       "      <td>از کار افتاده</td>\n",
       "      <td>1390/12/24</td>\n",
       "      <td>NaN</td>\n",
       "      <td>272725.693345</td>\n",
       "      <td>36070600</td>\n",
       "      <td>13</td>\n",
       "      <td>مسكوني</td>\n",
       "      <td>66</td>\n",
       "      <td>0.75</td>\n",
       "    </tr>\n",
       "    <tr>\n",
       "      <th>3</th>\n",
       "      <td>ناحيه 4 گرگان</td>\n",
       "      <td>11157787</td>\n",
       "      <td>941010</td>\n",
       "      <td>990214</td>\n",
       "      <td>152</td>\n",
       "      <td>7385</td>\n",
       "      <td>3188</td>\n",
       "      <td>433</td>\n",
       "      <td>1219749</td>\n",
       "      <td>قرائت نشده</td>\n",
       "      <td>1391/02/12</td>\n",
       "      <td>NaN</td>\n",
       "      <td>NaN</td>\n",
       "      <td>42761200</td>\n",
       "      <td>9</td>\n",
       "      <td>مسكوني</td>\n",
       "      <td>60</td>\n",
       "      <td>0.75</td>\n",
       "    </tr>\n",
       "    <tr>\n",
       "      <th>4</th>\n",
       "      <td>ناحيه 6 گرگان</td>\n",
       "      <td>41119865</td>\n",
       "      <td>981125</td>\n",
       "      <td>960226</td>\n",
       "      <td>82</td>\n",
       "      <td>12472</td>\n",
       "      <td>12692</td>\n",
       "      <td>486</td>\n",
       "      <td>136407</td>\n",
       "      <td>قرائت نشده</td>\n",
       "      <td>1397/11/25</td>\n",
       "      <td>NaN</td>\n",
       "      <td>271984.104536</td>\n",
       "      <td>12030900</td>\n",
       "      <td>42</td>\n",
       "      <td>مسكوني</td>\n",
       "      <td>17</td>\n",
       "      <td>0.75</td>\n",
       "    </tr>\n",
       "  </tbody>\n",
       "</table>\n",
       "</div>"
      ],
      "text/plain": [
       "                      district       doc  pre_date  cur_date  days  pre_read  \\\n",
       "0  ناحيه 50 مراکز اداري دولتي   11292510    960418    970825    47      1564   \n",
       "1                ناحيه 8 گرگان  11705225    980921    961014    97     10395   \n",
       "2                ناحيه 5 گرگان  11147901    950426    980207   173     13502   \n",
       "3                ناحيه 4 گرگان  11157787    941010    990214   152      7385   \n",
       "4                ناحيه 6 گرگان  41119865    981125    960226    82     12472   \n",
       "\n",
       "   cur_read  consumption     bill        obstcle       meter             Y  \\\n",
       "0     16155          412   633996            nan  1396/02/19  4.079694e+06   \n",
       "1     12159          371   568685     قرائت نشده  1395/06/20           NaN   \n",
       "2     13985          410   108353  از کار افتاده  1390/12/24           NaN   \n",
       "3      3188          433  1219749     قرائت نشده  1391/02/12           NaN   \n",
       "4     12692          486   136407     قرائت نشده  1397/11/25           NaN   \n",
       "\n",
       "               X        ID  flats land_use  capacity  diameter  \n",
       "0  270177.868594  46620700     42   مسكوني       100      0.75  \n",
       "1            NaN  43055800     17   مسكوني        70      0.75  \n",
       "2  272725.693345  36070600     13   مسكوني        66      0.75  \n",
       "3            NaN  42761200      9   مسكوني        60      0.75  \n",
       "4  271984.104536  12030900     42   مسكوني        17      0.75  "
      ]
     },
     "execution_count": 51,
     "metadata": {},
     "output_type": "execute_result"
    }
   ],
   "source": [
    "df_new_with_nan = pd.DataFrame({\n",
    "   'district': district_gen,\n",
    "    'doc' : doc_gen,\n",
    "    'pre_date' : pre_date_gen,\n",
    "    'cur_date' : cur_date_gen,\n",
    "    'days' : days_gen,\n",
    "    'pre_read' : pre_read_gen,\n",
    "    'cur_read' : cur_read_gen,\n",
    "    'consumption' : consumption_gen,\n",
    "    'bill' : bill_gen,\n",
    "    'obstcle' : obstcle_gen,\n",
    "    'meter' : meter_gen,\n",
    "    'Y' : Y_gen,\n",
    "    'X' : X_gen,\n",
    "    'ID' : ID_gen,\n",
    "    'flats' : flats_gen,\n",
    "    'land_use' : land_use_gen,\n",
    "    'capacity' : capacity_gen,\n",
    "    'diameter' :diameter_gen\n",
    "    })\n",
    "df_new_with_nan.head()"
   ]
  },
  {
   "cell_type": "code",
   "execution_count": 52,
   "id": "1c838028",
   "metadata": {},
   "outputs": [
    {
     "data": {
      "text/plain": [
       "(10000, 18)"
      ]
     },
     "execution_count": 52,
     "metadata": {},
     "output_type": "execute_result"
    }
   ],
   "source": [
    "df_new_with_nan.shape"
   ]
  },
  {
   "cell_type": "code",
   "execution_count": 50,
   "id": "d4135d7e",
   "metadata": {},
   "outputs": [
    {
     "name": "stdout",
     "output_type": "stream",
     "text": [
      "Y \t\t 0.575 %\n",
      "X \t\t 0.572 %\n"
     ]
    }
   ],
   "source": [
    "na_features = [features for features in df_new_with_nan.columns if df_new_with_nan[features].isnull().sum()>1]\n",
    "for feature in na_features:\n",
    "    print(feature,'\\t\\t', np.round(df_new_with_nan[feature].isnull().mean(),3), '%')"
   ]
  },
  {
   "cell_type": "code",
   "execution_count": 47,
   "id": "0b6dd1aa",
   "metadata": {},
   "outputs": [
    {
     "data": {
      "text/html": [
       "<div>\n",
       "<style scoped>\n",
       "    .dataframe tbody tr th:only-of-type {\n",
       "        vertical-align: middle;\n",
       "    }\n",
       "\n",
       "    .dataframe tbody tr th {\n",
       "        vertical-align: top;\n",
       "    }\n",
       "\n",
       "    .dataframe thead th {\n",
       "        text-align: right;\n",
       "    }\n",
       "</style>\n",
       "<table border=\"1\" class=\"dataframe\">\n",
       "  <thead>\n",
       "    <tr style=\"text-align: right;\">\n",
       "      <th></th>\n",
       "      <th>district</th>\n",
       "      <th>doc</th>\n",
       "      <th>pre_date</th>\n",
       "      <th>cur_date</th>\n",
       "      <th>days</th>\n",
       "      <th>pre_read</th>\n",
       "      <th>cur_read</th>\n",
       "      <th>consumption</th>\n",
       "      <th>bill</th>\n",
       "      <th>obstcle</th>\n",
       "      <th>meter</th>\n",
       "      <th>Y</th>\n",
       "      <th>X</th>\n",
       "      <th>ID</th>\n",
       "      <th>flats</th>\n",
       "      <th>land_use</th>\n",
       "      <th>capacity</th>\n",
       "      <th>diameter</th>\n",
       "    </tr>\n",
       "  </thead>\n",
       "  <tbody>\n",
       "    <tr>\n",
       "      <th>1</th>\n",
       "      <td>ناحيه 8 گرگان</td>\n",
       "      <td>11705225</td>\n",
       "      <td>980921</td>\n",
       "      <td>961014</td>\n",
       "      <td>97</td>\n",
       "      <td>10395</td>\n",
       "      <td>12159</td>\n",
       "      <td>371</td>\n",
       "      <td>568685</td>\n",
       "      <td>قرائت نشده</td>\n",
       "      <td>1395/06/20</td>\n",
       "      <td>NaN</td>\n",
       "      <td>NaN</td>\n",
       "      <td>43055800</td>\n",
       "      <td>17</td>\n",
       "      <td>مسكوني</td>\n",
       "      <td>70</td>\n",
       "      <td>0.75</td>\n",
       "    </tr>\n",
       "    <tr>\n",
       "      <th>2</th>\n",
       "      <td>ناحيه 5 گرگان</td>\n",
       "      <td>11147901</td>\n",
       "      <td>950426</td>\n",
       "      <td>980207</td>\n",
       "      <td>173</td>\n",
       "      <td>13502</td>\n",
       "      <td>13985</td>\n",
       "      <td>410</td>\n",
       "      <td>108353</td>\n",
       "      <td>از کار افتاده</td>\n",
       "      <td>1390/12/24</td>\n",
       "      <td>NaN</td>\n",
       "      <td>272725.693345</td>\n",
       "      <td>36070600</td>\n",
       "      <td>13</td>\n",
       "      <td>مسكوني</td>\n",
       "      <td>66</td>\n",
       "      <td>0.75</td>\n",
       "    </tr>\n",
       "    <tr>\n",
       "      <th>3</th>\n",
       "      <td>ناحيه 4 گرگان</td>\n",
       "      <td>11157787</td>\n",
       "      <td>941010</td>\n",
       "      <td>990214</td>\n",
       "      <td>152</td>\n",
       "      <td>7385</td>\n",
       "      <td>3188</td>\n",
       "      <td>433</td>\n",
       "      <td>1219749</td>\n",
       "      <td>قرائت نشده</td>\n",
       "      <td>1391/02/12</td>\n",
       "      <td>NaN</td>\n",
       "      <td>NaN</td>\n",
       "      <td>42761200</td>\n",
       "      <td>9</td>\n",
       "      <td>مسكوني</td>\n",
       "      <td>60</td>\n",
       "      <td>0.75</td>\n",
       "    </tr>\n",
       "    <tr>\n",
       "      <th>4</th>\n",
       "      <td>ناحيه 6 گرگان</td>\n",
       "      <td>41119865</td>\n",
       "      <td>981125</td>\n",
       "      <td>960226</td>\n",
       "      <td>82</td>\n",
       "      <td>12472</td>\n",
       "      <td>12692</td>\n",
       "      <td>486</td>\n",
       "      <td>136407</td>\n",
       "      <td>قرائت نشده</td>\n",
       "      <td>1397/11/25</td>\n",
       "      <td>NaN</td>\n",
       "      <td>271984.104536</td>\n",
       "      <td>12030900</td>\n",
       "      <td>42</td>\n",
       "      <td>مسكوني</td>\n",
       "      <td>17</td>\n",
       "      <td>0.75</td>\n",
       "    </tr>\n",
       "    <tr>\n",
       "      <th>7</th>\n",
       "      <td>ناحيه 4 گرگان</td>\n",
       "      <td>11328638</td>\n",
       "      <td>960820</td>\n",
       "      <td>980925</td>\n",
       "      <td>233</td>\n",
       "      <td>3886</td>\n",
       "      <td>757</td>\n",
       "      <td>122</td>\n",
       "      <td>1261071</td>\n",
       "      <td>از کار افتاده</td>\n",
       "      <td>1390/02/24</td>\n",
       "      <td>NaN</td>\n",
       "      <td>NaN</td>\n",
       "      <td>42550800</td>\n",
       "      <td>3</td>\n",
       "      <td>مسكوني</td>\n",
       "      <td>37</td>\n",
       "      <td>0.75</td>\n",
       "    </tr>\n",
       "    <tr>\n",
       "      <th>...</th>\n",
       "      <td>...</td>\n",
       "      <td>...</td>\n",
       "      <td>...</td>\n",
       "      <td>...</td>\n",
       "      <td>...</td>\n",
       "      <td>...</td>\n",
       "      <td>...</td>\n",
       "      <td>...</td>\n",
       "      <td>...</td>\n",
       "      <td>...</td>\n",
       "      <td>...</td>\n",
       "      <td>...</td>\n",
       "      <td>...</td>\n",
       "      <td>...</td>\n",
       "      <td>...</td>\n",
       "      <td>...</td>\n",
       "      <td>...</td>\n",
       "      <td>...</td>\n",
       "    </tr>\n",
       "    <tr>\n",
       "      <th>9993</th>\n",
       "      <td>قرارداد 1915 کد 102شرکت فاينانس پو يا فن هيرک...</td>\n",
       "      <td>11315935</td>\n",
       "      <td>980510</td>\n",
       "      <td>990829</td>\n",
       "      <td>180</td>\n",
       "      <td>19689</td>\n",
       "      <td>2201</td>\n",
       "      <td>69</td>\n",
       "      <td>368729</td>\n",
       "      <td>از کار افتاده</td>\n",
       "      <td>1399/12/10</td>\n",
       "      <td>NaN</td>\n",
       "      <td>267614.567461</td>\n",
       "      <td>65231200</td>\n",
       "      <td>4</td>\n",
       "      <td>مسكوني</td>\n",
       "      <td>104</td>\n",
       "      <td>0.75</td>\n",
       "    </tr>\n",
       "    <tr>\n",
       "      <th>9994</th>\n",
       "      <td>ناحيه 6 گرگان</td>\n",
       "      <td>11293800</td>\n",
       "      <td>951016</td>\n",
       "      <td>960513</td>\n",
       "      <td>213</td>\n",
       "      <td>1059</td>\n",
       "      <td>3509</td>\n",
       "      <td>35</td>\n",
       "      <td>348058</td>\n",
       "      <td>nan</td>\n",
       "      <td>1396/01/15</td>\n",
       "      <td>NaN</td>\n",
       "      <td>NaN</td>\n",
       "      <td>65176315</td>\n",
       "      <td>8</td>\n",
       "      <td>مسكوني</td>\n",
       "      <td>131</td>\n",
       "      <td>0.75</td>\n",
       "    </tr>\n",
       "    <tr>\n",
       "      <th>9995</th>\n",
       "      <td>ناحيه 5 گرگان</td>\n",
       "      <td>11550110</td>\n",
       "      <td>940828</td>\n",
       "      <td>971128</td>\n",
       "      <td>150</td>\n",
       "      <td>189</td>\n",
       "      <td>16256</td>\n",
       "      <td>158</td>\n",
       "      <td>1305197</td>\n",
       "      <td>nan</td>\n",
       "      <td>1397/05/31</td>\n",
       "      <td>NaN</td>\n",
       "      <td>272769.696846</td>\n",
       "      <td>42020400</td>\n",
       "      <td>3</td>\n",
       "      <td>مسكوني</td>\n",
       "      <td>28</td>\n",
       "      <td>0.75</td>\n",
       "    </tr>\n",
       "    <tr>\n",
       "      <th>9998</th>\n",
       "      <td>ناحيه 7 گرگان</td>\n",
       "      <td>11444425</td>\n",
       "      <td>950630</td>\n",
       "      <td>960225</td>\n",
       "      <td>69</td>\n",
       "      <td>2515</td>\n",
       "      <td>10194</td>\n",
       "      <td>484</td>\n",
       "      <td>375932</td>\n",
       "      <td>قرائت نشده</td>\n",
       "      <td>1394/07/22</td>\n",
       "      <td>NaN</td>\n",
       "      <td>270826.247002</td>\n",
       "      <td>21413100</td>\n",
       "      <td>3</td>\n",
       "      <td>مسكوني</td>\n",
       "      <td>18</td>\n",
       "      <td>0.75</td>\n",
       "    </tr>\n",
       "    <tr>\n",
       "      <th>9999</th>\n",
       "      <td>قرارداد 16135 کد 221شرکت فاينانس پيام سازه سپ...</td>\n",
       "      <td>11375628</td>\n",
       "      <td>970206</td>\n",
       "      <td>980413</td>\n",
       "      <td>323</td>\n",
       "      <td>12845</td>\n",
       "      <td>344</td>\n",
       "      <td>723</td>\n",
       "      <td>144327</td>\n",
       "      <td>از کار افتاده</td>\n",
       "      <td>1389/12/08</td>\n",
       "      <td>NaN</td>\n",
       "      <td>NaN</td>\n",
       "      <td>46621600</td>\n",
       "      <td>5</td>\n",
       "      <td>مسكوني</td>\n",
       "      <td>30</td>\n",
       "      <td>0.75</td>\n",
       "    </tr>\n",
       "  </tbody>\n",
       "</table>\n",
       "<p>5750 rows × 18 columns</p>\n",
       "</div>"
      ],
      "text/plain": [
       "                                               district       doc  pre_date  \\\n",
       "1                                         ناحيه 8 گرگان  11705225    980921   \n",
       "2                                         ناحيه 5 گرگان  11147901    950426   \n",
       "3                                         ناحيه 4 گرگان  11157787    941010   \n",
       "4                                         ناحيه 6 گرگان  41119865    981125   \n",
       "7                                         ناحيه 4 گرگان  11328638    960820   \n",
       "...                                                 ...       ...       ...   \n",
       "9993   قرارداد 1915 کد 102شرکت فاينانس پو يا فن هيرک...  11315935    980510   \n",
       "9994                                      ناحيه 6 گرگان  11293800    951016   \n",
       "9995                                      ناحيه 5 گرگان  11550110    940828   \n",
       "9998                                      ناحيه 7 گرگان  11444425    950630   \n",
       "9999   قرارداد 16135 کد 221شرکت فاينانس پيام سازه سپ...  11375628    970206   \n",
       "\n",
       "      cur_date  days  pre_read  cur_read  consumption     bill        obstcle  \\\n",
       "1       961014    97     10395     12159          371   568685     قرائت نشده   \n",
       "2       980207   173     13502     13985          410   108353  از کار افتاده   \n",
       "3       990214   152      7385      3188          433  1219749     قرائت نشده   \n",
       "4       960226    82     12472     12692          486   136407     قرائت نشده   \n",
       "7       980925   233      3886       757          122  1261071  از کار افتاده   \n",
       "...        ...   ...       ...       ...          ...      ...            ...   \n",
       "9993    990829   180     19689      2201           69   368729  از کار افتاده   \n",
       "9994    960513   213      1059      3509           35   348058            nan   \n",
       "9995    971128   150       189     16256          158  1305197            nan   \n",
       "9998    960225    69      2515     10194          484   375932     قرائت نشده   \n",
       "9999    980413   323     12845       344          723   144327  از کار افتاده   \n",
       "\n",
       "           meter   Y              X        ID  flats land_use  capacity  \\\n",
       "1     1395/06/20 NaN            NaN  43055800     17   مسكوني        70   \n",
       "2     1390/12/24 NaN  272725.693345  36070600     13   مسكوني        66   \n",
       "3     1391/02/12 NaN            NaN  42761200      9   مسكوني        60   \n",
       "4     1397/11/25 NaN  271984.104536  12030900     42   مسكوني        17   \n",
       "7     1390/02/24 NaN            NaN  42550800      3   مسكوني        37   \n",
       "...          ...  ..            ...       ...    ...      ...       ...   \n",
       "9993  1399/12/10 NaN  267614.567461  65231200      4   مسكوني       104   \n",
       "9994  1396/01/15 NaN            NaN  65176315      8   مسكوني       131   \n",
       "9995  1397/05/31 NaN  272769.696846  42020400      3   مسكوني        28   \n",
       "9998  1394/07/22 NaN  270826.247002  21413100      3   مسكوني        18   \n",
       "9999  1389/12/08 NaN            NaN  46621600      5   مسكوني        30   \n",
       "\n",
       "      diameter  \n",
       "1         0.75  \n",
       "2         0.75  \n",
       "3         0.75  \n",
       "4         0.75  \n",
       "7         0.75  \n",
       "...        ...  \n",
       "9993      0.75  \n",
       "9994      0.75  \n",
       "9995      0.75  \n",
       "9998      0.75  \n",
       "9999      0.75  \n",
       "\n",
       "[5750 rows x 18 columns]"
      ]
     },
     "execution_count": 47,
     "metadata": {},
     "output_type": "execute_result"
    }
   ],
   "source": [
    "x_nan_df_new_with_nan = df_new_with_nan[df_new_with_nan['Y'].isna()]\n",
    "x_nan_df_new_with_nan"
   ]
  },
  {
   "cell_type": "code",
   "execution_count": 53,
   "id": "3ee12669",
   "metadata": {},
   "outputs": [],
   "source": [
    "df_new_with_nan.to_csv('./df_new_with_nan.csv', index=False)\n",
    "# df.to_excel('./df_generated_with_nan_with_out_outline.xlsx', index=False)"
   ]
  },
  {
   "cell_type": "code",
   "execution_count": 49,
   "id": "efeaa105",
   "metadata": {},
   "outputs": [
    {
     "ename": "ValueError",
     "evalue": "Cannot take a larger sample than population when 'replace=False'",
     "output_type": "error",
     "traceback": [
      "\u001b[1;31m---------------------------------------------------------------------------\u001b[0m",
      "\u001b[1;31mValueError\u001b[0m                                Traceback (most recent call last)",
      "Cell \u001b[1;32mIn[49], line 23\u001b[0m\n\u001b[0;32m     20\u001b[0m outliers \u001b[38;5;241m=\u001b[39m np\u001b[38;5;241m.\u001b[39mrandom\u001b[38;5;241m.\u001b[39mrandom(size\u001b[38;5;241m=\u001b[39mnum_outliers)\n\u001b[0;32m     22\u001b[0m \u001b[38;5;66;03m# اضافه کردن داده‌های پرت به دیتافریم\u001b[39;00m\n\u001b[1;32m---> 23\u001b[0m df[\u001b[38;5;124m'\u001b[39m\u001b[38;5;124moutliers\u001b[39m\u001b[38;5;124m'\u001b[39m] \u001b[38;5;241m=\u001b[39m np\u001b[38;5;241m.\u001b[39mconcatenate([\u001b[43mdf\u001b[49m\u001b[43m[\u001b[49m\u001b[38;5;124;43m'\u001b[39;49m\u001b[38;5;124;43mdiameter\u001b[39;49m\u001b[38;5;124;43m'\u001b[39;49m\u001b[43m]\u001b[49m\u001b[38;5;241;43m.\u001b[39;49m\u001b[43msample\u001b[49m\u001b[43m(\u001b[49m\u001b[43mnum_outliers\u001b[49m\u001b[43m)\u001b[49m\u001b[38;5;241m.\u001b[39mvalues \u001b[38;5;241m+\u001b[39m outliers,\n\u001b[0;32m     24\u001b[0m                                  df[\u001b[38;5;124m'\u001b[39m\u001b[38;5;124mdiameter\u001b[39m\u001b[38;5;124m'\u001b[39m]\u001b[38;5;241m.\u001b[39msample(num_outliers)\u001b[38;5;241m.\u001b[39mvalues \u001b[38;5;241m-\u001b[39m outliers])\n\u001b[0;32m     26\u001b[0m \u001b[38;5;66;03m# نمایش نمونه از دیتافریم با داده‌های پرت\u001b[39;00m\n\u001b[0;32m     27\u001b[0m \u001b[38;5;28mprint\u001b[39m(df\u001b[38;5;241m.\u001b[39mhead())\n",
      "File \u001b[1;32m~\\AppData\\Local\\Programs\\Python\\Python311\\Lib\\site-packages\\pandas\\core\\generic.py:5773\u001b[0m, in \u001b[0;36mNDFrame.sample\u001b[1;34m(self, n, frac, replace, weights, random_state, axis, ignore_index)\u001b[0m\n\u001b[0;32m   5770\u001b[0m \u001b[38;5;28;01mif\u001b[39;00m weights \u001b[38;5;129;01mis\u001b[39;00m \u001b[38;5;129;01mnot\u001b[39;00m \u001b[38;5;28;01mNone\u001b[39;00m:\n\u001b[0;32m   5771\u001b[0m     weights \u001b[38;5;241m=\u001b[39m sample\u001b[38;5;241m.\u001b[39mpreprocess_weights(\u001b[38;5;28mself\u001b[39m, weights, axis)\n\u001b[1;32m-> 5773\u001b[0m sampled_indices \u001b[38;5;241m=\u001b[39m \u001b[43msample\u001b[49m\u001b[38;5;241;43m.\u001b[39;49m\u001b[43msample\u001b[49m\u001b[43m(\u001b[49m\u001b[43mobj_len\u001b[49m\u001b[43m,\u001b[49m\u001b[43m \u001b[49m\u001b[43msize\u001b[49m\u001b[43m,\u001b[49m\u001b[43m \u001b[49m\u001b[43mreplace\u001b[49m\u001b[43m,\u001b[49m\u001b[43m \u001b[49m\u001b[43mweights\u001b[49m\u001b[43m,\u001b[49m\u001b[43m \u001b[49m\u001b[43mrs\u001b[49m\u001b[43m)\u001b[49m\n\u001b[0;32m   5774\u001b[0m result \u001b[38;5;241m=\u001b[39m \u001b[38;5;28mself\u001b[39m\u001b[38;5;241m.\u001b[39mtake(sampled_indices, axis\u001b[38;5;241m=\u001b[39maxis)\n\u001b[0;32m   5776\u001b[0m \u001b[38;5;28;01mif\u001b[39;00m ignore_index:\n",
      "File \u001b[1;32m~\\AppData\\Local\\Programs\\Python\\Python311\\Lib\\site-packages\\pandas\\core\\sample.py:150\u001b[0m, in \u001b[0;36msample\u001b[1;34m(obj_len, size, replace, weights, random_state)\u001b[0m\n\u001b[0;32m    147\u001b[0m     \u001b[38;5;28;01melse\u001b[39;00m:\n\u001b[0;32m    148\u001b[0m         \u001b[38;5;28;01mraise\u001b[39;00m \u001b[38;5;167;01mValueError\u001b[39;00m(\u001b[38;5;124m\"\u001b[39m\u001b[38;5;124mInvalid weights: weights sum to zero\u001b[39m\u001b[38;5;124m\"\u001b[39m)\n\u001b[1;32m--> 150\u001b[0m \u001b[38;5;28;01mreturn\u001b[39;00m \u001b[43mrandom_state\u001b[49m\u001b[38;5;241;43m.\u001b[39;49m\u001b[43mchoice\u001b[49m\u001b[43m(\u001b[49m\u001b[43mobj_len\u001b[49m\u001b[43m,\u001b[49m\u001b[43m \u001b[49m\u001b[43msize\u001b[49m\u001b[38;5;241;43m=\u001b[39;49m\u001b[43msize\u001b[49m\u001b[43m,\u001b[49m\u001b[43m \u001b[49m\u001b[43mreplace\u001b[49m\u001b[38;5;241;43m=\u001b[39;49m\u001b[43mreplace\u001b[49m\u001b[43m,\u001b[49m\u001b[43m \u001b[49m\u001b[43mp\u001b[49m\u001b[38;5;241;43m=\u001b[39;49m\u001b[43mweights\u001b[49m\u001b[43m)\u001b[49m\u001b[38;5;241m.\u001b[39mastype(\n\u001b[0;32m    151\u001b[0m     np\u001b[38;5;241m.\u001b[39mintp, copy\u001b[38;5;241m=\u001b[39m\u001b[38;5;28;01mFalse\u001b[39;00m\n\u001b[0;32m    152\u001b[0m )\n",
      "File \u001b[1;32mmtrand.pyx:984\u001b[0m, in \u001b[0;36mnumpy.random.mtrand.RandomState.choice\u001b[1;34m()\u001b[0m\n",
      "\u001b[1;31mValueError\u001b[0m: Cannot take a larger sample than population when 'replace=False'"
     ]
    }
   ],
   "source": [
    "import pandas as pd\n",
    "import numpy as np\n",
    "\n",
    "# داده‌های اولیه شما\n",
    "data = {\n",
    "    'district': ['district1', 'district2', 'district3'],\n",
    "    'doc': [1, 2, 3],\n",
    "    'pre_date': [20210101, 20210201, 20210301],\n",
    "    # سایر ستون‌ها ...\n",
    "    'diameter': [0.5, 0.7, 0.8]\n",
    "}\n",
    "\n",
    "# تبدیل داده‌های اولیه به دیتافریم\n",
    "df = pd.DataFrame(data)\n",
    "\n",
    "# تعداد داده‌های پرت مورد نظر\n",
    "num_outliers = 500\n",
    "\n",
    "# تولید داده‌های تصادفی برای داده‌های پرت\n",
    "outliers = np.random.random(size=num_outliers)\n",
    "\n",
    "# اضافه کردن داده‌های پرت به دیتافریم\n",
    "df['outliers'] = np.concatenate([df['diameter'].sample(num_outliers).values + outliers,\n",
    "                                 df['diameter'].sample(num_outliers).values - outliers])\n",
    "\n",
    "# نمایش نمونه از دیتافریم با داده‌های پرت\n",
    "print(df.head())\n"
   ]
  }
 ],
 "metadata": {
  "direction": "rtl",
  "kernelspec": {
   "display_name": "Python 3 (ipykernel)",
   "language": "python",
   "name": "python3"
  },
  "language_info": {
   "codemirror_mode": {
    "name": "ipython",
    "version": 3
   },
   "file_extension": ".py",
   "mimetype": "text/x-python",
   "name": "python",
   "nbconvert_exporter": "python",
   "pygments_lexer": "ipython3",
   "version": "3.11.2"
  }
 },
 "nbformat": 4,
 "nbformat_minor": 5
}
